{
 "cells": [
  {
   "cell_type": "code",
   "execution_count": 25,
   "metadata": {},
   "outputs": [],
   "source": [
    "%matplotlib inline\n",
    "from matplotlib import style\n",
    "style.use('fivethirtyeight')\n",
    "import matplotlib.pyplot as plt"
   ]
  },
  {
   "cell_type": "code",
   "execution_count": 26,
   "metadata": {},
   "outputs": [],
   "source": [
    "import numpy as np\n",
    "import pandas as pd"
   ]
  },
  {
   "cell_type": "code",
   "execution_count": 27,
   "metadata": {},
   "outputs": [],
   "source": [
    "import datetime as dt"
   ]
  },
  {
   "cell_type": "markdown",
   "metadata": {},
   "source": [
    "# Reflect Tables into SQLAlchemy ORM"
   ]
  },
  {
   "cell_type": "code",
   "execution_count": 28,
   "metadata": {},
   "outputs": [],
   "source": [
    "# Python SQL toolkit and Object Relational Mapper\n",
    "import sqlalchemy\n",
    "from sqlalchemy.ext.automap import automap_base\n",
    "from sqlalchemy.orm import Session\n",
    "from sqlalchemy import create_engine, func"
   ]
  },
  {
   "cell_type": "code",
   "execution_count": 31,
   "metadata": {},
   "outputs": [],
   "source": [
    "engine = create_engine(\"sqlite:///Resources/hawaii.sqlite\", echo=False)"
   ]
  },
  {
   "cell_type": "code",
   "execution_count": 33,
   "metadata": {},
   "outputs": [
    {
     "ename": "OperationalError",
     "evalue": "(sqlite3.OperationalError) no such table: hawaii\n[SQL: SELECT * FROM hawaii LIMIT 5]\n(Background on this error at: http://sqlalche.me/e/e3q8)",
     "output_type": "error",
     "traceback": [
      "\u001b[1;31m---------------------------------------------------------------------------\u001b[0m",
      "\u001b[1;31mOperationalError\u001b[0m                          Traceback (most recent call last)",
      "\u001b[1;32m~\\anaconda3\\envs\\PythonData\\lib\\site-packages\\sqlalchemy\\engine\\base.py\u001b[0m in \u001b[0;36m_execute_context\u001b[1;34m(self, dialect, constructor, statement, parameters, *args)\u001b[0m\n\u001b[0;32m   1283\u001b[0m                     self.dialect.do_execute(\n\u001b[1;32m-> 1284\u001b[1;33m                         \u001b[0mcursor\u001b[0m\u001b[1;33m,\u001b[0m \u001b[0mstatement\u001b[0m\u001b[1;33m,\u001b[0m \u001b[0mparameters\u001b[0m\u001b[1;33m,\u001b[0m \u001b[0mcontext\u001b[0m\u001b[1;33m\u001b[0m\u001b[1;33m\u001b[0m\u001b[0m\n\u001b[0m\u001b[0;32m   1285\u001b[0m                     )\n",
      "\u001b[1;32m~\\anaconda3\\envs\\PythonData\\lib\\site-packages\\sqlalchemy\\engine\\default.py\u001b[0m in \u001b[0;36mdo_execute\u001b[1;34m(self, cursor, statement, parameters, context)\u001b[0m\n\u001b[0;32m    589\u001b[0m     \u001b[1;32mdef\u001b[0m \u001b[0mdo_execute\u001b[0m\u001b[1;33m(\u001b[0m\u001b[0mself\u001b[0m\u001b[1;33m,\u001b[0m \u001b[0mcursor\u001b[0m\u001b[1;33m,\u001b[0m \u001b[0mstatement\u001b[0m\u001b[1;33m,\u001b[0m \u001b[0mparameters\u001b[0m\u001b[1;33m,\u001b[0m \u001b[0mcontext\u001b[0m\u001b[1;33m=\u001b[0m\u001b[1;32mNone\u001b[0m\u001b[1;33m)\u001b[0m\u001b[1;33m:\u001b[0m\u001b[1;33m\u001b[0m\u001b[1;33m\u001b[0m\u001b[0m\n\u001b[1;32m--> 590\u001b[1;33m         \u001b[0mcursor\u001b[0m\u001b[1;33m.\u001b[0m\u001b[0mexecute\u001b[0m\u001b[1;33m(\u001b[0m\u001b[0mstatement\u001b[0m\u001b[1;33m,\u001b[0m \u001b[0mparameters\u001b[0m\u001b[1;33m)\u001b[0m\u001b[1;33m\u001b[0m\u001b[1;33m\u001b[0m\u001b[0m\n\u001b[0m\u001b[0;32m    591\u001b[0m \u001b[1;33m\u001b[0m\u001b[0m\n",
      "\u001b[1;31mOperationalError\u001b[0m: no such table: hawaii",
      "\nThe above exception was the direct cause of the following exception:\n",
      "\u001b[1;31mOperationalError\u001b[0m                          Traceback (most recent call last)",
      "\u001b[1;32m<ipython-input-33-c871f238493c>\u001b[0m in \u001b[0;36m<module>\u001b[1;34m\u001b[0m\n\u001b[1;32m----> 1\u001b[1;33m \u001b[0mengine\u001b[0m\u001b[1;33m.\u001b[0m\u001b[0mexecute\u001b[0m\u001b[1;33m(\u001b[0m\u001b[1;34m\"SELECT * FROM hawaii LIMIT 5\"\u001b[0m\u001b[1;33m)\u001b[0m\u001b[1;33m.\u001b[0m\u001b[0mfetchall\u001b[0m\u001b[1;33m(\u001b[0m\u001b[1;33m)\u001b[0m\u001b[1;33m\u001b[0m\u001b[1;33m\u001b[0m\u001b[0m\n\u001b[0m",
      "\u001b[1;32m~\\anaconda3\\envs\\PythonData\\lib\\site-packages\\sqlalchemy\\engine\\base.py\u001b[0m in \u001b[0;36mexecute\u001b[1;34m(self, statement, *multiparams, **params)\u001b[0m\n\u001b[0;32m   2242\u001b[0m \u001b[1;33m\u001b[0m\u001b[0m\n\u001b[0;32m   2243\u001b[0m         \u001b[0mconnection\u001b[0m \u001b[1;33m=\u001b[0m \u001b[0mself\u001b[0m\u001b[1;33m.\u001b[0m\u001b[0m_contextual_connect\u001b[0m\u001b[1;33m(\u001b[0m\u001b[0mclose_with_result\u001b[0m\u001b[1;33m=\u001b[0m\u001b[1;32mTrue\u001b[0m\u001b[1;33m)\u001b[0m\u001b[1;33m\u001b[0m\u001b[1;33m\u001b[0m\u001b[0m\n\u001b[1;32m-> 2244\u001b[1;33m         \u001b[1;32mreturn\u001b[0m \u001b[0mconnection\u001b[0m\u001b[1;33m.\u001b[0m\u001b[0mexecute\u001b[0m\u001b[1;33m(\u001b[0m\u001b[0mstatement\u001b[0m\u001b[1;33m,\u001b[0m \u001b[1;33m*\u001b[0m\u001b[0mmultiparams\u001b[0m\u001b[1;33m,\u001b[0m \u001b[1;33m**\u001b[0m\u001b[0mparams\u001b[0m\u001b[1;33m)\u001b[0m\u001b[1;33m\u001b[0m\u001b[1;33m\u001b[0m\u001b[0m\n\u001b[0m\u001b[0;32m   2245\u001b[0m \u001b[1;33m\u001b[0m\u001b[0m\n\u001b[0;32m   2246\u001b[0m     \u001b[1;32mdef\u001b[0m \u001b[0mscalar\u001b[0m\u001b[1;33m(\u001b[0m\u001b[0mself\u001b[0m\u001b[1;33m,\u001b[0m \u001b[0mstatement\u001b[0m\u001b[1;33m,\u001b[0m \u001b[1;33m*\u001b[0m\u001b[0mmultiparams\u001b[0m\u001b[1;33m,\u001b[0m \u001b[1;33m**\u001b[0m\u001b[0mparams\u001b[0m\u001b[1;33m)\u001b[0m\u001b[1;33m:\u001b[0m\u001b[1;33m\u001b[0m\u001b[1;33m\u001b[0m\u001b[0m\n",
      "\u001b[1;32m~\\anaconda3\\envs\\PythonData\\lib\\site-packages\\sqlalchemy\\engine\\base.py\u001b[0m in \u001b[0;36mexecute\u001b[1;34m(self, object_, *multiparams, **params)\u001b[0m\n\u001b[0;32m   1010\u001b[0m         \"\"\"\n\u001b[0;32m   1011\u001b[0m         \u001b[1;32mif\u001b[0m \u001b[0misinstance\u001b[0m\u001b[1;33m(\u001b[0m\u001b[0mobject_\u001b[0m\u001b[1;33m,\u001b[0m \u001b[0mutil\u001b[0m\u001b[1;33m.\u001b[0m\u001b[0mstring_types\u001b[0m\u001b[1;33m[\u001b[0m\u001b[1;36m0\u001b[0m\u001b[1;33m]\u001b[0m\u001b[1;33m)\u001b[0m\u001b[1;33m:\u001b[0m\u001b[1;33m\u001b[0m\u001b[1;33m\u001b[0m\u001b[0m\n\u001b[1;32m-> 1012\u001b[1;33m             \u001b[1;32mreturn\u001b[0m \u001b[0mself\u001b[0m\u001b[1;33m.\u001b[0m\u001b[0m_execute_text\u001b[0m\u001b[1;33m(\u001b[0m\u001b[0mobject_\u001b[0m\u001b[1;33m,\u001b[0m \u001b[0mmultiparams\u001b[0m\u001b[1;33m,\u001b[0m \u001b[0mparams\u001b[0m\u001b[1;33m)\u001b[0m\u001b[1;33m\u001b[0m\u001b[1;33m\u001b[0m\u001b[0m\n\u001b[0m\u001b[0;32m   1013\u001b[0m         \u001b[1;32mtry\u001b[0m\u001b[1;33m:\u001b[0m\u001b[1;33m\u001b[0m\u001b[1;33m\u001b[0m\u001b[0m\n\u001b[0;32m   1014\u001b[0m             \u001b[0mmeth\u001b[0m \u001b[1;33m=\u001b[0m \u001b[0mobject_\u001b[0m\u001b[1;33m.\u001b[0m\u001b[0m_execute_on_connection\u001b[0m\u001b[1;33m\u001b[0m\u001b[1;33m\u001b[0m\u001b[0m\n",
      "\u001b[1;32m~\\anaconda3\\envs\\PythonData\\lib\\site-packages\\sqlalchemy\\engine\\base.py\u001b[0m in \u001b[0;36m_execute_text\u001b[1;34m(self, statement, multiparams, params)\u001b[0m\n\u001b[0;32m   1185\u001b[0m             \u001b[0mparameters\u001b[0m\u001b[1;33m,\u001b[0m\u001b[1;33m\u001b[0m\u001b[1;33m\u001b[0m\u001b[0m\n\u001b[0;32m   1186\u001b[0m             \u001b[0mstatement\u001b[0m\u001b[1;33m,\u001b[0m\u001b[1;33m\u001b[0m\u001b[1;33m\u001b[0m\u001b[0m\n\u001b[1;32m-> 1187\u001b[1;33m             \u001b[0mparameters\u001b[0m\u001b[1;33m,\u001b[0m\u001b[1;33m\u001b[0m\u001b[1;33m\u001b[0m\u001b[0m\n\u001b[0m\u001b[0;32m   1188\u001b[0m         )\n\u001b[0;32m   1189\u001b[0m         \u001b[1;32mif\u001b[0m \u001b[0mself\u001b[0m\u001b[1;33m.\u001b[0m\u001b[0m_has_events\u001b[0m \u001b[1;32mor\u001b[0m \u001b[0mself\u001b[0m\u001b[1;33m.\u001b[0m\u001b[0mengine\u001b[0m\u001b[1;33m.\u001b[0m\u001b[0m_has_events\u001b[0m\u001b[1;33m:\u001b[0m\u001b[1;33m\u001b[0m\u001b[1;33m\u001b[0m\u001b[0m\n",
      "\u001b[1;32m~\\anaconda3\\envs\\PythonData\\lib\\site-packages\\sqlalchemy\\engine\\base.py\u001b[0m in \u001b[0;36m_execute_context\u001b[1;34m(self, dialect, constructor, statement, parameters, *args)\u001b[0m\n\u001b[0;32m   1322\u001b[0m         \u001b[1;32mexcept\u001b[0m \u001b[0mBaseException\u001b[0m \u001b[1;32mas\u001b[0m \u001b[0me\u001b[0m\u001b[1;33m:\u001b[0m\u001b[1;33m\u001b[0m\u001b[1;33m\u001b[0m\u001b[0m\n\u001b[0;32m   1323\u001b[0m             self._handle_dbapi_exception(\n\u001b[1;32m-> 1324\u001b[1;33m                 \u001b[0me\u001b[0m\u001b[1;33m,\u001b[0m \u001b[0mstatement\u001b[0m\u001b[1;33m,\u001b[0m \u001b[0mparameters\u001b[0m\u001b[1;33m,\u001b[0m \u001b[0mcursor\u001b[0m\u001b[1;33m,\u001b[0m \u001b[0mcontext\u001b[0m\u001b[1;33m\u001b[0m\u001b[1;33m\u001b[0m\u001b[0m\n\u001b[0m\u001b[0;32m   1325\u001b[0m             )\n\u001b[0;32m   1326\u001b[0m \u001b[1;33m\u001b[0m\u001b[0m\n",
      "\u001b[1;32m~\\anaconda3\\envs\\PythonData\\lib\\site-packages\\sqlalchemy\\engine\\base.py\u001b[0m in \u001b[0;36m_handle_dbapi_exception\u001b[1;34m(self, e, statement, parameters, cursor, context)\u001b[0m\n\u001b[0;32m   1516\u001b[0m             \u001b[1;32melif\u001b[0m \u001b[0mshould_wrap\u001b[0m\u001b[1;33m:\u001b[0m\u001b[1;33m\u001b[0m\u001b[1;33m\u001b[0m\u001b[0m\n\u001b[0;32m   1517\u001b[0m                 util.raise_(\n\u001b[1;32m-> 1518\u001b[1;33m                     \u001b[0msqlalchemy_exception\u001b[0m\u001b[1;33m,\u001b[0m \u001b[0mwith_traceback\u001b[0m\u001b[1;33m=\u001b[0m\u001b[0mexc_info\u001b[0m\u001b[1;33m[\u001b[0m\u001b[1;36m2\u001b[0m\u001b[1;33m]\u001b[0m\u001b[1;33m,\u001b[0m \u001b[0mfrom_\u001b[0m\u001b[1;33m=\u001b[0m\u001b[0me\u001b[0m\u001b[1;33m\u001b[0m\u001b[1;33m\u001b[0m\u001b[0m\n\u001b[0m\u001b[0;32m   1519\u001b[0m                 )\n\u001b[0;32m   1520\u001b[0m             \u001b[1;32melse\u001b[0m\u001b[1;33m:\u001b[0m\u001b[1;33m\u001b[0m\u001b[1;33m\u001b[0m\u001b[0m\n",
      "\u001b[1;32m~\\anaconda3\\envs\\PythonData\\lib\\site-packages\\sqlalchemy\\util\\compat.py\u001b[0m in \u001b[0;36mraise_\u001b[1;34m(***failed resolving arguments***)\u001b[0m\n\u001b[0;32m    176\u001b[0m \u001b[1;33m\u001b[0m\u001b[0m\n\u001b[0;32m    177\u001b[0m         \u001b[1;32mtry\u001b[0m\u001b[1;33m:\u001b[0m\u001b[1;33m\u001b[0m\u001b[1;33m\u001b[0m\u001b[0m\n\u001b[1;32m--> 178\u001b[1;33m             \u001b[1;32mraise\u001b[0m \u001b[0mexception\u001b[0m\u001b[1;33m\u001b[0m\u001b[1;33m\u001b[0m\u001b[0m\n\u001b[0m\u001b[0;32m    179\u001b[0m         \u001b[1;32mfinally\u001b[0m\u001b[1;33m:\u001b[0m\u001b[1;33m\u001b[0m\u001b[1;33m\u001b[0m\u001b[0m\n\u001b[0;32m    180\u001b[0m             \u001b[1;31m# credit to\u001b[0m\u001b[1;33m\u001b[0m\u001b[1;33m\u001b[0m\u001b[1;33m\u001b[0m\u001b[0m\n",
      "\u001b[1;32m~\\anaconda3\\envs\\PythonData\\lib\\site-packages\\sqlalchemy\\engine\\base.py\u001b[0m in \u001b[0;36m_execute_context\u001b[1;34m(self, dialect, constructor, statement, parameters, *args)\u001b[0m\n\u001b[0;32m   1282\u001b[0m                 \u001b[1;32mif\u001b[0m \u001b[1;32mnot\u001b[0m \u001b[0mevt_handled\u001b[0m\u001b[1;33m:\u001b[0m\u001b[1;33m\u001b[0m\u001b[1;33m\u001b[0m\u001b[0m\n\u001b[0;32m   1283\u001b[0m                     self.dialect.do_execute(\n\u001b[1;32m-> 1284\u001b[1;33m                         \u001b[0mcursor\u001b[0m\u001b[1;33m,\u001b[0m \u001b[0mstatement\u001b[0m\u001b[1;33m,\u001b[0m \u001b[0mparameters\u001b[0m\u001b[1;33m,\u001b[0m \u001b[0mcontext\u001b[0m\u001b[1;33m\u001b[0m\u001b[1;33m\u001b[0m\u001b[0m\n\u001b[0m\u001b[0;32m   1285\u001b[0m                     )\n\u001b[0;32m   1286\u001b[0m \u001b[1;33m\u001b[0m\u001b[0m\n",
      "\u001b[1;32m~\\anaconda3\\envs\\PythonData\\lib\\site-packages\\sqlalchemy\\engine\\default.py\u001b[0m in \u001b[0;36mdo_execute\u001b[1;34m(self, cursor, statement, parameters, context)\u001b[0m\n\u001b[0;32m    588\u001b[0m \u001b[1;33m\u001b[0m\u001b[0m\n\u001b[0;32m    589\u001b[0m     \u001b[1;32mdef\u001b[0m \u001b[0mdo_execute\u001b[0m\u001b[1;33m(\u001b[0m\u001b[0mself\u001b[0m\u001b[1;33m,\u001b[0m \u001b[0mcursor\u001b[0m\u001b[1;33m,\u001b[0m \u001b[0mstatement\u001b[0m\u001b[1;33m,\u001b[0m \u001b[0mparameters\u001b[0m\u001b[1;33m,\u001b[0m \u001b[0mcontext\u001b[0m\u001b[1;33m=\u001b[0m\u001b[1;32mNone\u001b[0m\u001b[1;33m)\u001b[0m\u001b[1;33m:\u001b[0m\u001b[1;33m\u001b[0m\u001b[1;33m\u001b[0m\u001b[0m\n\u001b[1;32m--> 590\u001b[1;33m         \u001b[0mcursor\u001b[0m\u001b[1;33m.\u001b[0m\u001b[0mexecute\u001b[0m\u001b[1;33m(\u001b[0m\u001b[0mstatement\u001b[0m\u001b[1;33m,\u001b[0m \u001b[0mparameters\u001b[0m\u001b[1;33m)\u001b[0m\u001b[1;33m\u001b[0m\u001b[1;33m\u001b[0m\u001b[0m\n\u001b[0m\u001b[0;32m    591\u001b[0m \u001b[1;33m\u001b[0m\u001b[0m\n\u001b[0;32m    592\u001b[0m     \u001b[1;32mdef\u001b[0m \u001b[0mdo_execute_no_params\u001b[0m\u001b[1;33m(\u001b[0m\u001b[0mself\u001b[0m\u001b[1;33m,\u001b[0m \u001b[0mcursor\u001b[0m\u001b[1;33m,\u001b[0m \u001b[0mstatement\u001b[0m\u001b[1;33m,\u001b[0m \u001b[0mcontext\u001b[0m\u001b[1;33m=\u001b[0m\u001b[1;32mNone\u001b[0m\u001b[1;33m)\u001b[0m\u001b[1;33m:\u001b[0m\u001b[1;33m\u001b[0m\u001b[1;33m\u001b[0m\u001b[0m\n",
      "\u001b[1;31mOperationalError\u001b[0m: (sqlite3.OperationalError) no such table: hawaii\n[SQL: SELECT * FROM hawaii LIMIT 5]\n(Background on this error at: http://sqlalche.me/e/e3q8)"
     ]
    }
   ],
   "source": [
    "engine.execute(\"SELECT * FROM hawaii LIMIT 5\").fetchall()"
   ]
  },
  {
   "cell_type": "code",
   "execution_count": 7,
   "metadata": {},
   "outputs": [],
   "source": [
    "# reflect an existing database into a new model\n",
    "Base = automap_base()\n",
    "# reflect the tables\n",
    "Base.prepare(engine, reflect=True)\n"
   ]
  },
  {
   "cell_type": "code",
   "execution_count": 8,
   "metadata": {},
   "outputs": [
    {
     "data": {
      "text/plain": [
       "['measurement', 'station']"
      ]
     },
     "execution_count": 8,
     "metadata": {},
     "output_type": "execute_result"
    }
   ],
   "source": [
    "# We can view all of the classes that automap found\n",
    "Base.classes.keys()"
   ]
  },
  {
   "cell_type": "code",
   "execution_count": 10,
   "metadata": {},
   "outputs": [],
   "source": [
    "# Save references to each table\n",
    "Measurement = Base.classes.measurement\n",
    "Station = Base.classes.station"
   ]
  },
  {
   "cell_type": "code",
   "execution_count": 9,
   "metadata": {},
   "outputs": [],
   "source": [
    "# Create our session (link) from Python to the DB\n",
    "session = Session(engine)"
   ]
  },
  {
   "cell_type": "markdown",
   "metadata": {},
   "source": [
    "# Exploratory Climate Analysis"
   ]
  },
  {
   "cell_type": "code",
   "execution_count": 57,
   "metadata": {},
   "outputs": [
    {
     "data": {
      "image/png": "[encoded data removed]",
      "text/plain": [
       "<Figure size 432x288 with 1 Axes>"
      ]
     },
     "metadata": {},
     "output_type": "display_data"
    }
   ],
   "source": [
    "# Design a query to retrieve the last 12 months of precipitation data and plot the results\n",
    "\n",
    "# Calculate the date 1 year ago from the last data point in the database\n",
    "last_date_point = session.query(Measurement.date).order_by(Measurement.date.desc()).first()\n",
    "year_ago_date = dt.date(2017,8,23) - dt.timedelta(days=365)\n",
    "# Perform a query to retrieve the data and precipitation scores\n",
    "results = session.query(Measurement.date, Measurement.prcp).\\\n",
    "            filter(Measurement.date>year_ago_date).all()\n",
    "# Save the query results as a Pandas DataFrame and set the index to the date column\n",
    "df = pd.DataFrame(results, columns=['Date', 'Precipitation'])\n",
    "df.set_index('Date',inplace=True)\n",
    "# Sort the dataframe by date\n",
    "\n",
    "# Use Pandas Plotting with Matplotlib to plot the data\n",
    "df.plot.bar()\n",
    "plt.tight_layout()\n",
    "plt.show()"
   ]
  },
  {
   "cell_type": "code",
   "execution_count": 44,
   "metadata": {},
   "outputs": [
    {
     "name": "stdout",
     "output_type": "stream",
     "text": [
      "[('2016-08-24', 0.08), ('2016-08-25', 0.08), ('2016-08-26', 0.0), ('2016-08-27', 0.0), ('2016-08-28', 0.01), ('2016-08-29', 0.0), ('2016-08-30', 0.0), ('2016-08-31', 0.13), ('2016-09-01', 0.0), ('2016-09-02', 0.0), ('2016-09-03', 0.0), ('2016-09-04', 0.03), ('2016-09-05', None), ('2016-09-06', None), ('2016-09-07', 0.05), ('2016-09-08', 0.0), ('2016-09-09', 0.03), ('2016-09-10', 0.0), ('2016-09-11', 0.05), ('2016-09-12', 0.0), ('2016-09-13', 0.02), ('2016-09-14', 1.32), ('2016-09-15', 0.42), ('2016-09-16', 0.06), ('2016-09-17', 0.05), ('2016-09-18', 0.0), ('2016-09-19', 0.0), ('2016-09-20', 0.0), ('2016-09-21', 0.0), ('2016-09-22', 0.02), ('2016-09-23', 0.0), ('2016-09-24', 0.0), ('2016-09-25', 0.0), ('2016-09-26', 0.06), ('2016-09-27', 0.02), ('2016-09-28', 0.0), ('2016-09-29', 0.0), ('2016-09-30', 0.0), ('2016-10-01', 0.0), ('2016-10-02', 0.0), ('2016-10-03', 0.0), ('2016-10-04', 0.0), ('2016-10-05', 0.0), ('2016-10-06', 0.0), ('2016-10-07', 0.0), ('2016-10-08', 0.0), ('2016-10-09', 0.0), ('2016-10-10', 0.0), ('2016-10-11', 0.0), ('2016-10-12', 0.0), ('2016-10-13', 0.0), ('2016-10-14', 0.0), ('2016-10-15', 0.0), ('2016-10-16', 0.0), ('2016-10-17', 0.01), ('2016-10-18', 0.0), ('2016-10-19', 0.0), ('2016-10-20', 0.0), ('2016-10-21', 0.05), ('2016-10-22', 0.15), ('2016-10-23', 0.01), ('2016-10-24', 0.0), ('2016-10-25', 0.03), ('2016-10-26', 0.0), ('2016-10-27', 0.0), ('2016-10-28', 0.0), ('2016-10-29', 0.0), ('2016-10-30', 0.24), ('2016-10-31', 0.03), ('2016-11-01', 0.0), ('2016-11-02', 0.0), ('2016-11-03', 0.0), ('2016-11-04', 0.0), ('2016-11-05', 0.0), ('2016-11-06', 0.0), ('2016-11-07', 0.0), ('2016-11-08', 0.07), ('2016-11-09', 0.0), ('2016-11-10', 0.0), ('2016-11-11', 0.0), ('2016-11-12', 0.0), ('2016-11-13', 0.0), ('2016-11-14', 0.0), ('2016-11-15', 0.0), ('2016-11-16', 0.0), ('2016-11-17', 0.0), ('2016-11-18', 0.0), ('2016-11-19', 0.03), ('2016-11-20', 0.05), ('2016-11-21', 0.01), ('2016-11-22', 0.13), ('2016-11-23', 0.14), ('2016-11-24', 0.05), ('2016-11-25', 0.05), ('2016-11-26', 0.05), ('2016-11-27', 0.0), ('2016-11-28', 0.01), ('2016-11-29', 0.0), ('2016-11-30', 0.14), ('2016-12-01', 0.12), ('2016-12-02', 0.03), ('2016-12-03', 0.0), ('2016-12-04', 0.03), ('2016-12-05', 0.43), ('2016-12-06', 0.02), ('2016-12-07', 0.0), ('2016-12-08', 0.03), ('2016-12-09', 0.52), ('2016-12-10', 0.05), ('2016-12-11', 0.04), ('2016-12-12', 0.01), ('2016-12-13', 0.05), ('2016-12-14', 0.03), ('2016-12-15', 0.0), ('2016-12-16', 0.0), ('2016-12-17', 0.01), ('2016-12-18', 0.13), ('2016-12-19', 0.01), ('2016-12-20', 0.0), ('2016-12-21', 0.0), ('2016-12-22', 0.01), ('2016-12-23', 0.01), ('2016-12-24', 0.01), ('2016-12-25', 0.0), ('2016-12-26', 0.02), ('2016-12-27', 0.0), ('2016-12-28', 0.02), ('2016-12-29', 0.04), ('2016-12-30', 0.12), ('2016-12-31', 0.01), ('2017-01-01', 0.0), ('2017-01-02', 0.0), ('2017-01-03', 0.0), ('2017-01-04', 0.0), ('2017-01-05', 0.0), ('2017-01-06', 0.0), ('2017-01-07', 0.0), ('2017-01-08', 0.0), ('2017-01-09', 0.0), ('2017-01-10', 0.0), ('2017-01-11', 0.0), ('2017-01-12', 0.0), ('2017-01-13', 0.0), ('2017-01-14', 0.0), ('2017-01-15', 0.0), ('2017-01-16', 0.0), ('2017-01-17', 0.0), ('2017-01-18', 0.0), ('2017-01-19', 0.0), ('2017-01-20', 0.0), ('2017-01-21', 0.0), ('2017-01-22', 0.16), ('2017-01-23', 0.0), ('2017-01-24', 0.04), ('2017-01-25', 0.03), ('2017-01-26', 0.0), ('2017-01-27', 0.0), ('2017-01-28', 0.0), ('2017-01-29', 0.18), ('2017-01-30', 0.0), ('2017-01-31', 0.0), ('2017-02-01', 0.0), ('2017-02-02', 0.0), ('2017-02-03', 0.0), ('2017-02-04', 0.0), ('2017-02-05', 0.0), ('2017-02-06', 0.0), ('2017-02-07', 0.51), ('2017-02-08', 0.0), ('2017-02-09', 0.0), ('2017-02-10', 0.0), ('2017-02-11', 0.31), ('2017-02-12', 2.62), ('2017-02-13', 0.01), ('2017-02-14', 0.0), ('2017-02-15', 0.0), ('2017-02-16', 0.07), ('2017-02-17', 0.0), ('2017-02-18', 0.0), ('2017-02-19', 0.0), ('2017-02-20', 0.0), ('2017-02-21', 0.06), ('2017-02-22', 0.06), ('2017-02-23', 0.01), ('2017-02-24', 0.0), ('2017-02-25', 0.03), ('2017-02-26', 0.0), ('2017-02-27', 0.0), ('2017-02-28', 0.0), ('2017-03-01', 1.19), ('2017-03-02', 0.73), ('2017-03-03', 0.47), ('2017-03-04', 0.0), ('2017-03-05', 0.35), ('2017-03-06', 0.0), ('2017-03-07', 0.0), ('2017-03-08', 0.0), ('2017-03-09', 0.0), ('2017-03-10', 0.0), ('2017-03-11', 0.0), ('2017-03-12', 0.0), ('2017-03-13', 0.0), ('2017-03-14', 0.0), ('2017-03-15', 0.0), ('2017-03-16', 0.0), ('2017-03-17', 0.0), ('2017-03-18', 0.0), ('2017-03-19', 0.0), ('2017-03-20', 0.0), ('2017-03-21', 0.0), ('2017-03-22', 0.0), ('2017-03-23', 0.0), ('2017-03-24', 0.02), ('2017-03-25', 0.0), ('2017-03-26', 0.0), ('2017-03-27', 0.0), ('2017-03-28', 0.0), ('2017-03-29', 0.0), ('2017-03-30', 0.0), ('2017-03-31', 0.0), ('2017-04-01', 0.0), ('2017-04-02', 0.0), ('2017-04-03', 0.0), ('2017-04-04', 0.0), ('2017-04-05', 0.0), ('2017-04-06', 0.0), ('2017-04-07', 0.0), ('2017-04-08', 0.0), ('2017-04-09', 0.0), ('2017-04-10', 0.0), ('2017-04-11', 0.0), ('2017-04-12', 0.0), ('2017-04-13', 0.0), ('2017-04-14', 0.26), ('2017-04-15', 0.01), ('2017-04-16', 0.0), ('2017-04-17', 0.02), ('2017-04-18', 0.0), ('2017-04-19', 0.02), ('2017-04-20', 0.05), ('2017-04-21', 0.23), ('2017-04-22', 0.32), ('2017-04-23', 0.03), ('2017-04-24', 0.0), ('2017-04-25', 0.0), ('2017-04-26', 0.0), ('2017-04-27', 0.0), ('2017-04-28', 0.0), ('2017-04-29', 0.12), ('2017-04-30', 0.89), ('2017-05-01', 0.26), ('2017-05-02', 0.0), ('2017-05-03', 0.0), ('2017-05-04', 0.0), ('2017-05-05', 0.0), ('2017-05-06', 0.0), ('2017-05-07', 0.0), ('2017-05-08', 0.0), ('2017-05-10', 0.0), ('2017-05-11', 0.01), ('2017-05-12', 0.0), ('2017-05-13', 0.0), ('2017-05-14', 0.0), ('2017-05-15', 0.05), ('2017-05-16', 0.01), ('2017-05-17', 0.0), ('2017-05-18', 0.01), ('2017-05-19', 0.0), ('2017-05-20', 0.0), ('2017-05-21', 0.0), ('2017-05-22', 0.0), ('2017-05-23', 0.08), ('2017-05-24', 0.13), ('2017-05-25', 0.15), ('2017-05-27', 0.01), ('2017-05-28', 0.02), ('2017-05-29', 0.0), ('2017-05-30', 0.26), ('2017-05-31', 0.02), ('2017-06-01', 0.0), ('2017-06-02', 0.0), ('2017-06-03', 0.02), ('2017-06-04', 0.0), ('2017-06-05', 0.0), ('2017-06-06', 0.0), ('2017-06-07', 0.0), ('2017-06-08', 0.0), ('2017-06-09', 0.0), ('2017-06-10', 0.04), ('2017-06-11', 0.08), ('2017-06-12', 0.02), ('2017-06-13', 0.0), ('2017-06-14', 0.0), ('2017-06-15', 0.0), ('2017-06-16', 0.0), ('2017-06-17', 0.0), ('2017-06-18', 0.05), ('2017-06-19', 0.0), ('2017-06-20', 0.02), ('2017-06-21', 0.0), ('2017-06-22', 0.0), ('2017-06-23', 0.0), ('2017-06-24', 0.06), ('2017-06-25', 0.0), ('2017-06-26', 0.0), ('2017-06-27', 0.0), ('2017-06-28', 0.0), ('2017-06-29', 0.0), ('2017-06-30', 0.08), ('2017-07-01', 0.02), ('2017-07-02', 0.02), ('2017-07-03', 0.04), ('2017-07-04', 0.04), ('2017-07-05', 0.0), ('2017-07-06', 0.0), ('2017-07-07', 0.0), ('2017-07-08', 0.0), ('2017-07-09', 0.0), ('2017-07-10', 0.0), ('2017-07-11', 0.0), ('2017-07-12', 0.0), ('2017-07-13', 0.07), ('2017-07-14', 0.02), ('2017-07-15', 0.0), ('2017-07-16', 0.02), ('2017-07-17', 0.03), ('2017-07-18', 0.05), ('2017-07-20', 0.03), ('2017-07-21', 0.0), ('2017-07-22', 0.03), ('2017-07-23', 0.0), ('2017-07-24', 0.05), ('2017-07-25', 0.0), ('2017-07-26', 0.0), ('2017-07-27', 0.0), ('2017-07-28', 0.0), ('2017-07-29', 0.0), ('2017-07-30', 0.0), ('2017-07-31', 0.0), ('2017-08-01', 0.02), ('2017-08-02', 0.0), ('2017-08-03', 0.0), ('2017-08-04', 0.02), ('2017-08-05', 0.0), ('2017-08-06', 0.0), ('2017-08-07', 0.0), ('2017-08-08', 0.0), ('2017-08-09', 0.0), ('2017-08-10', 0.0), ('2017-08-11', 0.0), ('2017-08-12', 0.0), ('2017-08-13', 0.0), ('2017-08-14', 0.0), ('2017-08-15', 0.02), ('2017-08-18', 0.0), ('2017-08-19', 0.0), ('2017-08-20', 0.0), ('2017-08-21', 0.0), ('2017-08-22', 0.0), ('2017-08-23', 0.0), ('2016-08-24', 2.15), ('2016-08-25', 0.08), ('2016-08-26', 0.03), ('2016-08-27', 0.18), ('2016-08-28', 0.14), ('2016-08-29', 0.17), ('2016-08-30', 0.0), ('2016-08-31', 0.1), ('2016-09-01', 0.0), ('2016-09-02', 0.02), ('2016-09-03', 0.07), ('2016-09-04', 0.03), ('2016-09-05', 0.11), ('2016-09-06', 0.05), ('2016-09-07', 0.1), ('2016-09-08', 0.22), ('2016-09-09', 0.01), ('2016-09-10', 0.01), ('2016-09-11', 0.18), ('2016-09-12', 0.04), ('2016-09-13', 0.37), ('2016-09-14', 0.9), ('2016-09-15', 0.12), ('2016-09-16', 0.01), ('2016-09-17', 0.04), ('2016-09-18', 0.0), ('2016-09-19', 0.01), ('2016-09-20', 0.09), ('2016-09-21', 0.06), ('2016-09-22', 0.09), ('2016-09-23', 0.15), ('2016-09-24', 0.0), ('2016-09-25', 0.02), ('2016-09-26', 0.06), ('2016-09-27', 0.12), ('2016-09-28', 0.08), ('2016-09-29', 0.49), ('2016-09-30', 0.31), ('2016-10-01', 0.14), ('2016-10-02', 0.02), ('2016-10-03', 0.04), ('2016-10-04', 0.0), ('2016-10-05', 0.0), ('2016-10-06', 0.05), ('2016-10-07', 0.0), ('2016-10-08', 0.0), ('2016-10-09', 0.0), ('2016-10-10', 0.0), ('2016-10-11', 0.02), ('2016-10-12', 0.03), ('2016-10-13', 0.0), ('2016-10-14', 0.0), ('2016-10-15', 0.0), ('2016-10-16', 0.0), ('2016-10-17', 0.03), ('2016-10-18', 0.05), ('2016-10-19', 0.06), ('2016-10-20', 0.0), ('2016-10-21', 0.15), ('2016-10-22', 0.1), ('2016-10-23', 0.01), ('2016-10-24', 0.0), ('2016-10-25', 0.04), ('2016-10-26', 0.06), ('2016-10-27', 0.11), ('2016-10-28', 0.02), ('2016-10-29', 0.02), ('2016-10-30', 0.1), ('2016-10-31', 0.03), ('2016-11-01', 0.01), ('2016-11-02', 0.0), ('2016-11-03', 0.0), ('2016-11-04', 0.0), ('2016-11-05', 0.02), ('2016-11-06', 0.02), ('2016-11-07', 0.0), ('2016-11-08', 0.14), ('2016-11-09', 0.08), ('2016-11-10', 0.0), ('2016-11-11', 0.0), ('2016-11-12', 0.0), ('2016-11-13', 0.0), ('2016-11-14', 0.06), ('2016-11-15', 0.0), ('2016-11-16', 0.14), ('2016-11-17', 0.03), ('2016-11-18', 0.01), ('2016-11-19', 0.11), ('2016-11-20', 0.11), ('2016-11-21', 0.02), ('2016-11-22', 0.41), ('2016-11-23', 0.03), ('2016-11-24', 0.2), ('2016-11-25', 0.05), ('2016-11-26', 0.05), ('2016-11-27', 0.06), ('2016-11-28', 0.02), ('2016-11-29', 0.04), ('2016-11-30', 0.05), ('2016-12-01', 0.33), ('2016-12-02', 0.3), ('2016-12-03', 0.04), ('2016-12-04', 0.1), ('2016-12-05', 0.34), ('2016-12-06', 0.02), ('2016-12-07', 0.17), ('2016-12-08', 0.03), ('2016-12-09', 0.34), ('2016-12-10', 0.02), ('2016-12-11', 0.02), ('2016-12-12', 0.01), ('2016-12-13', 0.1), ('2016-12-14', 0.05), ('2016-12-15', 0.02), ('2016-12-16', 0.01), ('2016-12-17', 0.11), ('2016-12-18', 0.29), ('2016-12-19', 0.21), ('2016-12-20', 0.02), ('2016-12-21', 0.03), ('2016-12-22', 0.17), ('2016-12-23', 0.1), ('2016-12-24', 0.14), ('2016-12-25', 0.03), ('2016-12-26', 0.26), ('2016-12-27', 0.03), ('2016-12-28', 0.09), ('2016-12-29', 0.18), ('2016-12-30', 0.21), ('2016-12-31', 0.62), ('2017-01-01', 0.29), ('2017-01-02', 0.0), ('2017-01-03', 0.0), ('2017-01-04', 0.0), ('2017-01-05', 0.0), ('2017-01-06', 0.0), ('2017-01-07', 0.06), ('2017-01-08', 0.0), ('2017-01-09', 0.0), ('2017-01-10', 0.0), ('2017-01-11', 0.0), ('2017-01-12', 0.0), ('2017-01-13', 0.0), ('2017-01-14', 0.0), ('2017-01-15', 0.0), ('2017-01-16', 0.0), ('2017-01-17', 0.0), ('2017-01-18', 0.0), ('2017-01-19', 0.0), ('2017-01-20', 0.0), ('2017-01-21', 0.04), ('2017-01-22', 0.01), ('2017-01-23', 0.08), ('2017-01-24', 0.15), ('2017-01-25', 0.12), ('2017-01-26', 0.0), ('2017-01-27', 0.0), ('2017-01-28', 0.14), ('2017-01-29', 0.0), ('2017-01-30', 0.0), ('2017-01-31', 0.0), ('2017-02-01', 0.0), ('2017-02-02', 0.0), ('2017-02-03', 0.0), ('2017-02-04', 0.0), ('2017-02-05', 0.0), ('2017-02-06', 0.16), ('2017-02-07', 1.08), ('2017-02-08', 1.08), ('2017-02-09', 0.02), ('2017-02-10', 0.0), ('2017-02-11', 1.0), ('2017-02-12', 1.07), ('2017-02-13', 2.9), ('2017-02-14', 0.0), ('2017-02-15', 0.0), ('2017-02-16', 0.0), ('2017-02-17', 0.8), ('2017-02-18', 0.0), ('2017-02-19', 0.0), ('2017-02-20', 0.0), ('2017-02-21', 0.0), ('2017-02-22', 0.06), ('2017-02-23', 0.0), ('2017-02-24', 0.0), ('2017-02-25', 0.0), ('2017-02-26', 0.0), ('2017-02-27', 0.0), ('2017-02-28', 0.16), ('2017-03-01', 2.2), ('2017-03-02', 1.45), ('2017-03-03', 0.54), ('2017-03-04', 0.0), ('2017-03-05', 0.1), ('2017-03-06', 0.51), ('2017-03-07', 0.0), ('2017-03-08', 0.0), ('2017-03-09', 0.8), ('2017-03-10', 0.13), ('2017-03-11', 0.03), ('2017-03-12', 0.0), ('2017-03-13', 0.0), ('2017-03-14', 0.0), ('2017-03-15', 0.0), ('2017-03-16', 0.0), ('2017-03-17', 0.19), ('2017-03-18', 0.0), ('2017-03-19', 0.0), ('2017-03-20', 0.0), ('2017-03-21', 0.0), ('2017-03-22', 0.0), ('2017-03-23', 0.0), ('2017-03-24', 0.6), ('2017-03-25', 0.13), ('2017-03-26', 0.0), ('2017-03-27', 0.0), ('2017-03-28', 0.03), ('2017-03-29', 0.0), ('2017-03-30', 0.08), ('2017-03-31', 0.0), ('2017-04-01', 0.0), ('2017-04-02', 0.0), ('2017-04-03', 0.08), ('2017-04-04', 0.04), ('2017-04-05', 0.04), ('2017-04-06', 0.0), ('2017-04-07', 0.0), ('2017-04-08', 0.0), ('2017-04-09', 0.0), ('2017-04-10', 0.01), ('2017-04-11', 0.03), ('2017-04-12', 0.03), ('2017-04-13', 0.27), ('2017-04-14', 0.69), ('2017-04-15', 0.45), ('2017-04-16', 0.49), ('2017-04-17', 0.41), ('2017-04-18', 0.08), ('2017-04-19', 0.02), ('2017-04-20', 0.33), ('2017-04-21', 1.16), ('2017-04-22', 1.01), ('2017-04-23', 0.02), ('2017-04-24', 0.0), ('2017-04-25', 0.0), ('2017-04-26', 0.0), ('2017-04-27', 0.1), ('2017-04-28', 2.6), ('2017-04-29', 0.35), ('2017-04-30', 1.21), ('2017-05-01', 0.07), ('2017-05-02', 0.03), ('2017-05-03', 0.01), ('2017-05-04', 0.0), ('2017-05-05', 0.0), ('2017-05-06', 0.0), ('2017-05-07', 0.07), ('2017-05-08', 0.22), ('2017-05-09', 1.62), ('2017-05-10', 0.05), ('2017-05-11', 0.03), ('2017-05-12', 0.04), ('2017-05-13', 0.02), ('2017-05-14', 0.05), ('2017-05-15', 0.08), ('2017-05-16', 0.03), ('2017-05-17', 0.02), ('2017-05-18', 0.09), ('2017-05-19', 0.02), ('2017-05-20', 0.0), ('2017-05-21', 0.0), ('2017-05-22', 0.0), ('2017-05-23', 0.02), ('2017-05-24', 0.58), ('2017-05-25', 0.37), ('2017-05-26', 0.02), ('2017-05-27', 0.0), ('2017-05-28', 0.29), ('2017-05-29', 0.02), ('2017-05-30', 0.2), ('2017-05-31', 0.1), ('2017-06-01', 0.03), ('2017-06-02', 0.1), ('2017-06-03', 0.2), ('2017-06-04', 0.15), ('2017-06-05', 0.0), ('2017-06-06', 0.0), ('2017-06-07', 0.0), ('2017-06-08', 0.02), ('2017-06-09', 0.02), ('2017-06-10', 0.21), ('2017-06-11', 0.24), ('2017-06-12', 0.19), ('2017-06-13', 0.36), ('2017-06-14', 0.27), ('2017-06-15', 0.17), ('2017-06-16', 0.02), ('2017-06-17', 0.35), ('2017-06-18', 0.25), ('2017-06-19', 0.05), ('2017-06-20', 0.05), ('2017-06-21', 0.02), ('2017-06-22', 0.1), ('2017-06-23', 0.0), ('2017-06-24', 0.0), ('2017-06-25', 0.08), ('2017-06-26', 0.02), ('2017-06-27', 0.0), ('2017-06-28', 0.01), ('2017-06-29', 0.03), ('2017-06-30', 0.04), ('2017-07-01', 0.06), ('2017-07-02', 0.05), ('2017-07-03', 0.13), ('2017-07-04', 0.03), ('2017-07-05', 0.0), ('2017-07-06', 0.0), ('2017-07-07', 0.02), ('2017-07-08', 0.02), ('2017-07-09', 0.09), ('2017-07-10', 0.0), ('2017-07-11', 0.01), ('2017-07-12', 0.01), ('2017-07-13', 0.33), ('2017-07-14', 0.05), ('2017-07-15', 0.03), ('2017-07-16', 0.07), ('2017-07-17', 0.12), ('2017-07-18', 0.03), ('2017-07-19', 0.0), ('2017-07-20', 0.12), ('2017-07-21', 0.0), ('2017-07-22', 0.07), ('2017-07-23', 0.06), ('2017-07-24', 0.58), ('2017-07-25', 0.03), ('2017-07-26', 0.06), ('2017-07-27', 0.0), ('2017-07-28', 0.13), ('2017-07-29', 0.06), ('2017-07-30', 0.0), ('2017-07-31', 0.0), ('2016-08-24', 2.28), ('2016-08-25', 0.0), ('2016-08-26', 0.02), ('2016-08-27', 0.02), ('2016-08-28', 0.14), ('2016-08-29', 0.04), ('2016-08-31', None), ('2016-09-01', 0.0), ('2016-09-02', 0.19), ('2016-09-05', None), ('2016-09-06', 0.04), ('2016-09-07', 0.23), ('2016-09-08', 0.01), ('2016-09-09', 0.29), ('2016-09-12', None), ('2016-09-13', 0.32), ('2016-09-14', 1.84), ('2016-09-15', 0.07), ('2016-09-16', 0.07), ('2016-09-19', None), ('2016-09-20', 0.25), ('2016-09-21', 0.02), ('2016-09-22', 0.17), ('2016-09-23', 0.15), ('2016-09-24', 0.0), ('2016-09-25', 0.0), ('2016-09-26', 0.02), ('2016-09-27', 0.0), ('2016-09-28', 0.0), ('2016-09-29', 0.2), ('2016-09-30', 0.06), ('2016-10-01', 0.08), ('2016-10-02', 0.03), ('2016-10-03', 0.03), ('2016-10-04', 0.0), ('2016-10-05', 0.0), ('2016-10-06', 0.0), ('2016-10-07', 0.0), ('2016-10-10', None), ('2016-10-11', 0.04), ('2016-10-12', 0.0), ('2016-10-13', 0.02), ('2016-10-14', 0.0), ('2016-10-15', 0.02), ('2016-10-17', None), ('2016-10-18', 0.03), ('2016-10-19', 0.0), ('2016-10-20', 0.01), ('2016-10-21', 0.03), ('2016-10-23', None), ('2016-10-24', 0.01), ('2016-10-25', 0.0), ('2016-10-27', 0.2), ('2016-10-28', 0.07), ('2016-10-29', 0.26), ('2016-10-30', 0.14), ('2016-10-31', 0.0), ('2016-11-01', 0.0), ('2016-11-02', 0.0), ('2016-11-03', 0.0), ('2016-11-04', 0.0), ('2016-11-05', 0.0), ('2016-11-06', 0.0), ('2016-11-07', 0.13), ('2016-11-08', 0.02), ('2016-11-09', 0.17), ('2016-11-10', 0.0), ('2016-11-11', 0.0), ('2016-11-12', 0.0), ('2016-11-13', 0.0), ('2016-11-14', 0.05), ('2016-11-15', 0.0), ('2016-11-16', 0.18), ('2016-11-17', 0.0), ('2016-11-22', None), ('2016-11-25', None), ('2016-11-26', 0.02), ('2016-11-27', 0.03), ('2016-11-28', 0.0), ('2016-11-29', 0.04), ('2016-11-30', 0.03), ('2016-12-01', 0.07), ('2016-12-02', 0.4), ('2016-12-03', 0.26), ('2016-12-04', 0.0), ('2016-12-05', 0.2), ('2016-12-07', None), ('2016-12-08', 0.02), ('2016-12-09', 0.26), ('2016-12-10', 0.0), ('2016-12-12', None), ('2016-12-13', 0.34), ('2016-12-14', 0.12), ('2016-12-15', 0.07), ('2016-12-16', 0.0), ('2016-12-17', 0.0), ('2016-12-18', 0.04), ('2016-12-19', 0.0), ('2016-12-20', 0.0), ('2016-12-21', 0.09), ('2016-12-22', 0.05), ('2016-12-23', 0.03), ('2016-12-24', 0.13), ('2016-12-26', None), ('2016-12-27', 0.02), ('2016-12-28', 0.01), ('2016-12-29', 0.56), ('2016-12-30', 0.29), ('2016-12-31', 0.36), ('2017-01-01', 0.0), ('2017-01-02', 0.01), ('2017-01-03', 0.0), ('2017-01-04', 0.0), ('2017-01-05', 0.0), ('2017-01-06', 0.59), ('2017-01-07', 0.0), ('2017-01-08', 0.03), ('2017-01-09', 0.0), ('2017-01-10', 0.0), ('2017-01-11', 0.0), ('2017-01-13', None), ('2017-01-14', 0.0), ('2017-01-16', None), ('2017-01-17', 0.0), ('2017-01-18', 0.0), ('2017-01-19', 0.0), ('2017-01-20', 0.0), ('2017-01-21', 0.02), ('2017-01-23', None), ('2017-01-25', None), ('2017-01-26', 0.01), ('2017-01-27', 0.0), ('2017-01-28', 0.0), ('2017-01-30', None), ('2017-01-31', 0.0), ('2017-02-01', 0.0), ('2017-02-02', 0.0), ('2017-02-03', 0.0), ('2017-02-05', None), ('2017-02-06', 0.04), ('2017-02-07', 0.9), ('2017-02-08', 0.0), ('2017-02-09', 0.0), ('2017-02-10', 0.0), ('2017-02-11', 2.39), ('2017-02-12', 1.91), ('2017-02-13', 0.0), ('2017-02-14', 0.0), ('2017-02-15', 0.0), ('2017-02-16', 0.62), ('2017-02-17', 0.06), ('2017-02-20', None), ('2017-02-21', 0.0), ('2017-02-22', 0.11), ('2017-02-23', 0.0), ('2017-02-24', 0.0), ('2017-02-26', None), ('2017-02-27', 0.0), ('2017-02-28', 0.04), ('2017-03-01', 1.12), ('2017-03-03', None), ('2017-03-06', None), ('2017-03-07', 0.0), ('2017-03-08', 0.0), ('2017-03-09', 0.5), ('2017-03-10', 0.13), ('2017-03-12', None), ('2017-03-13', 0.0), ('2017-03-14', 0.0), ('2017-03-16', None), ('2017-03-17', 0.06), ('2017-03-18', 0.0), ('2017-03-20', None), ('2017-03-21', 0.0), ('2017-03-22', 0.0), ('2017-03-23', 0.0), ('2017-03-24', 0.15), ('2017-03-27', None), ('2017-03-28', 0.0), ('2017-03-29', 0.03), ('2017-03-30', 0.03), ('2017-03-31', 0.0), ('2017-04-01', 0.0), ('2017-04-02', 0.0), ('2017-04-03', 0.09), ('2017-04-04', 0.0), ('2017-04-05', 0.07), ('2017-04-06', 0.0), ('2017-04-07', 0.0), ('2017-04-09', None), ('2017-04-10', 0.0), ('2017-04-11', 0.16), ('2017-04-12', 0.29), ('2017-04-13', 0.0), ('2017-04-14', 0.29), ('2017-04-17', None), ('2017-04-18', 0.12), ('2017-04-19', 0.0), ('2017-04-20', 0.0), ('2017-04-21', 1.05), ('2017-04-22', 0.7), ('2017-04-24', None), ('2017-04-25', 0.0), ('2017-04-26', 0.14), ('2017-04-27', 0.02), ('2017-04-28', 0.09), ('2017-04-29', 0.95), ('2017-04-30', 1.17), ('2017-05-01', 0.03), ('2017-05-02', 0.01), ('2017-05-03', 0.01), ('2017-05-04', 0.08), ('2017-05-05', 0.28), ('2017-05-06', 0.06), ('2017-05-08', 0.95), ('2017-05-09', 0.52), ('2017-05-10', 0.0), ('2017-05-12', None), ('2017-05-15', None), ('2017-05-16', 0.05), ('2017-05-17', 0.0), ('2017-05-18', 0.16), ('2017-05-19', 0.01), ('2017-05-20', 0.01), ('2017-05-22', None), ('2017-05-23', 0.11), ('2017-05-24', 0.1), ('2017-05-25', 0.07), ('2017-05-26', 0.0), ('2017-05-27', 0.0), ('2017-05-28', 0.02), ('2017-05-29', 0.0), ('2017-05-30', 0.04), ('2017-05-31', 0.0), ('2017-06-01', 0.0), ('2017-06-02', 0.15), ('2017-06-03', 0.16), ('2017-06-04', 0.05), ('2017-06-05', 0.02), ('2017-06-06', 0.0), ('2017-06-07', 0.0), ('2017-06-08', 0.01), ('2017-06-09', 0.0), ('2017-06-10', 0.53), ('2017-06-11', 0.14), ('2017-06-12', 0.35), ('2017-06-13', 0.1), ('2017-06-14', 0.21), ('2017-06-15', 0.3), ('2017-06-16', 0.02), ('2017-06-17', 0.02), ('2017-06-18', 0.18), ('2017-06-19', 0.19), ('2017-06-20', 0.17), ('2017-06-23', None), ('2017-06-26', None), ('2017-06-29', None), ('2017-06-30', 0.0), ('2017-07-03', None), ('2017-07-05', None), ('2017-07-07', None), ('2017-07-08', 0.06), ('2017-07-09', 0.0), ('2017-07-10', 0.0), ('2017-07-11', 0.0), ('2017-07-12', 0.02), ('2017-07-13', 0.3), ('2017-07-14', 0.0), ('2017-07-15', 0.01), ('2017-07-16', 0.12), ('2017-07-17', 0.16), ('2017-07-18', 0.0), ('2017-07-19', 0.09), ('2017-07-20', 0.0), ('2017-07-21', 0.0), ('2017-07-22', 0.12), ('2017-07-23', 0.07), ('2017-07-24', 1.19), ('2017-07-25', 0.12), ('2017-07-26', 0.02), ('2017-07-27', 0.0), ('2017-07-28', 0.14), ('2017-07-29', 0.02), ('2017-07-31', None), ('2017-08-01', 0.12), ('2017-08-02', 0.05), ('2017-08-03', 0.01), ('2017-08-04', 0.04), ('2017-08-06', 0.0), ('2017-08-07', 0.0), ('2017-08-08', 0.1), ('2017-08-09', 0.0), ('2017-08-10', 0.0), ('2017-08-11', 0.0), ('2017-08-13', None), ('2017-08-14', 0.01), ('2017-08-15', 0.0), ('2017-08-16', 0.0), ('2017-08-17', 0.0), ('2017-08-18', 0.0), ('2017-08-19', 0.0), ('2017-08-20', 0.01), ('2017-08-21', 0.02), ('2017-08-23', 0.0), ('2016-08-24', None), ('2016-08-25', 0.0), ('2016-08-26', 0.04), ('2016-08-29', None), ('2016-08-30', 0.02), ('2016-08-31', None), ('2016-09-01', None), ('2016-09-02', None), ('2016-09-08', None), ('2016-09-09', None), ('2016-09-12', None), ('2016-09-13', None), ('2016-09-14', None), ('2016-09-15', None), ('2016-09-16', 0.0), ('2016-09-19', None), ('2016-09-20', 0.0), ('2016-09-22', 0.06), ('2016-09-23', 0.0), ('2016-09-26', None), ('2016-09-28', 0.0), ('2016-09-29', 0.04), ('2016-09-30', None), ('2016-10-03', None), ('2016-10-04', None), ('2016-10-05', None), ('2016-10-06', 0.07), ('2016-10-07', None), ('2016-10-11', None), ('2016-10-13', None), ('2016-10-17', None), ('2016-10-18', None), ('2016-10-19', None), ('2016-10-20', None), ('2016-10-21', None), ('2016-10-24', None), ('2016-10-25', 0.4), ('2016-10-26', 0.2), ('2016-10-27', None), ('2016-10-28', None), ('2016-10-31', None), ('2016-11-04', None), ('2016-11-07', None), ('2016-11-09', 0.0), ('2016-11-14', 0.02), ('2016-11-15', None), ('2016-11-16', None), ('2016-11-17', None), ('2016-11-18', None), ('2016-11-21', None), ('2016-11-22', None), ('2016-11-23', None), ('2016-11-28', None), ('2016-11-29', None), ('2016-11-30', None), ('2016-12-01', None), ('2016-12-02', None), ('2016-12-05', None), ('2016-12-06', None), ('2016-12-07', None), ('2016-12-08', 0.27), ('2016-12-09', None), ('2016-12-12', 0.02), ('2016-12-13', None), ('2016-12-14', None), ('2016-12-15', None), ('2016-12-16', None), ('2016-12-19', None), ('2016-12-20', None), ('2016-12-21', 0.06), ('2016-12-22', None), ('2016-12-23', None), ('2016-12-28', None), ('2016-12-29', None), ('2016-12-30', None), ('2017-01-09', None), ('2017-01-10', None), ('2017-01-11', None), ('2017-01-12', None), ('2017-01-13', None), ('2017-01-17', 0.0), ('2017-01-18', 0.0), ('2017-01-19', None), ('2017-01-20', None), ('2017-01-23', None), ('2017-01-24', None), ('2017-01-25', None), ('2017-01-26', 0.0), ('2017-01-27', 0.0), ('2017-01-30', 0.05), ('2017-01-31', 0.0), ('2017-02-01', 0.0), ('2017-02-02', 0.0), ('2017-02-03', 0.0), ('2017-02-06', None), ('2017-02-07', 0.0), ('2017-02-08', 0.0), ('2017-02-09', 0.0), ('2017-02-10', 0.0), ('2017-02-13', None), ('2017-02-14', 0.0), ('2017-02-15', None), ('2017-02-16', None), ('2017-02-17', 0.0), ('2017-02-21', None), ('2017-02-22', 0.17), ('2017-02-23', 0.0), ('2017-02-24', 0.0), ('2017-02-27', None), ('2017-02-28', None), ('2017-03-01', 2.4), ('2017-03-02', 0.44), ('2017-03-03', 0.14), ('2017-03-06', None), ('2017-03-07', None), ('2017-03-08', None), ('2017-03-09', 0.0), ('2017-03-10', 0.0), ('2017-03-13', None), ('2017-03-14', 0.06), ('2017-03-15', 0.0), ('2017-03-16', None), ('2017-03-17', None), ('2017-03-28', None), ('2017-03-29', None), ('2017-03-30', None), ('2017-03-31', 0.0), ('2017-04-03', None), ('2017-04-04', 0.0), ('2017-04-05', 0.0), ('2017-04-06', 0.0), ('2017-04-07', 0.0), ('2017-04-10', None), ('2017-04-11', None), ('2017-04-12', None), ('2017-04-13', None), ('2017-04-17', None), ('2017-04-18', 0.0), ('2017-04-19', None), ('2017-04-20', None), ('2017-04-21', None), ('2017-04-24', None), ('2017-04-25', None), ('2017-04-27', None), ('2017-04-28', None), ('2017-06-02', None), ('2017-06-05', None), ('2017-06-06', None), ('2017-06-07', None), ('2017-06-08', None), ('2017-06-09', None), ('2017-06-13', None), ('2017-06-14', None), ('2017-06-15', None), ('2017-06-16', None), ('2017-06-19', None), ('2017-06-20', None), ('2017-06-21', None), ('2017-06-22', 0.0), ('2017-06-23', 0.0), ('2017-06-26', None), ('2017-06-27', 0.0), ('2017-06-28', 0.0), ('2017-06-29', 0.0), ('2017-06-30', 0.12), ('2017-07-03', None), ('2017-07-05', None), ('2017-07-06', None), ('2017-07-07', None), ('2017-07-10', None), ('2017-07-11', None), ('2017-07-12', None), ('2017-07-13', None), ('2017-07-18', 0.0), ('2017-07-19', 0.0), ('2017-07-20', 0.0), ('2017-07-21', 0.0), ('2017-07-25', 0.0), ('2017-07-26', None), ('2017-07-27', None), ('2017-07-28', 0.01), ('2017-07-31', None), ('2016-08-24', 1.22), ('2016-08-25', 0.21), ('2016-08-26', 0.0), ('2016-08-27', 0.0), ('2016-08-28', 0.14), ('2016-08-29', 0.0), ('2016-08-30', 0.0), ('2016-08-31', 0.25), ('2016-09-02', None), ('2016-09-03', 0.08), ('2016-09-04', 0.74), ('2016-09-05', 0.02), ('2016-09-06', 0.03), ('2016-09-07', 0.11), ('2016-09-08', 0.01), ('2016-09-09', 0.23), ('2016-09-10', 0.14), ('2016-09-11', 0.12), ('2016-09-12', 0.15), ('2016-09-13', 0.46), ('2016-09-14', 1.19), ('2016-09-15', 0.17), ('2016-09-16', 0.01), ('2016-09-17', 0.0), ('2016-09-18', 0.04), ('2016-09-19', 0.05), ('2016-09-20', 0.04), ('2016-09-21', 0.0), ('2016-09-22', 0.01), ('2016-09-23', 0.0), ('2016-09-24', 0.0), ('2016-09-25', 0.0), ('2016-09-26', 0.34), ('2016-09-27', 0.05), ('2016-09-28', 0.0), ('2016-09-29', 0.18), ('2016-09-30', 0.15), ('2016-10-01', 0.07), ('2016-10-02', 0.0), ('2016-10-03', 0.0), ('2016-10-04', 0.0), ('2016-10-05', 0.0), ('2016-10-06', 0.0), ('2016-10-07', 0.0), ('2016-10-08', 0.0), ('2016-10-09', 0.0), ('2016-10-10', 0.0), ('2016-10-11', 0.0), ('2016-10-12', 0.0), ('2016-10-13', 0.0), ('2016-10-14', 0.0), ('2016-10-15', 0.0), ('2016-10-16', 0.0), ('2016-10-17', 0.12), ('2016-10-18', 0.02), ('2016-10-19', 0.0), ('2016-10-21', None), ('2016-10-22', 0.0), ('2016-10-23', 0.0), ('2016-10-24', 0.0), ('2016-10-25', 0.12), ('2016-10-26', 0.02), ('2016-10-27', 0.08), ('2016-10-28', 0.06), ('2016-10-29', 0.01), ('2016-10-30', 0.0), ('2016-10-31', 0.13), ('2016-11-01', 0.01), ('2016-11-02', 0.0), ('2016-11-03', 0.0), ('2016-11-04', 0.0), ('2016-11-05', 0.02), ('2016-11-06', 0.0), ('2016-11-07', 0.0), ('2016-11-08', 0.15), ('2016-11-09', 0.0), ('2016-11-10', 0.0), ('2016-11-11', 0.0), ('2016-11-12', 0.0), ('2016-11-13', 0.0), ('2016-11-14', 0.0), ('2016-11-15', 0.0), ('2016-11-16', 0.07), ('2016-11-17', 0.0), ('2016-11-18', 0.02), ('2016-11-19', 0.13), ('2016-11-20', 0.4), ('2016-11-21', 0.07), ('2016-11-22', 0.31), ('2016-11-23', 0.03), ('2016-11-24', 0.21), ('2016-11-25', 0.11), ('2016-11-26', 0.03), ('2016-11-27', 0.0), ('2016-11-28', 0.0), ('2016-11-29', 0.06), ('2016-11-30', 0.0), ('2016-12-01', 0.16), ('2016-12-02', 0.01), ('2016-12-03', 0.02), ('2016-12-04', 0.32), ('2016-12-05', 0.45), ('2016-12-06', 0.0), ('2016-12-07', 0.07), ('2016-12-08', 0.01), ('2016-12-10', None), ('2016-12-11', 0.06), ('2016-12-12', 0.0), ('2016-12-13', 0.15), ('2016-12-14', 0.05), ('2016-12-15', 0.0), ('2016-12-16', 0.0), ('2016-12-17', 0.16), ('2016-12-18', 0.27), ('2016-12-19', 0.02), ('2016-12-20', 0.01), ('2016-12-21', 0.06), ('2016-12-22', 0.14), ('2016-12-23', 0.02), ('2016-12-24', 0.06), ('2016-12-25', 0.0), ('2016-12-26', 0.06), ('2016-12-27', 0.0), ('2016-12-28', 0.06), ('2016-12-29', 0.05), ('2016-12-30', 0.07), ('2017-01-01', None), ('2017-01-03', None), ('2017-01-04', 0.18), ('2017-01-05', 0.42), ('2017-01-06', 0.01), ('2017-01-07', 0.0), ('2017-01-08', 0.0), ('2017-01-09', 0.0), ('2017-01-10', 0.0), ('2017-01-12', None), ('2017-01-15', None), ('2017-01-16', 0.0), ('2017-01-18', None), ('2017-01-19', 0.0), ('2017-01-20', 0.0), ('2017-01-21', 0.11), ('2017-01-22', 0.04), ('2017-01-23', 0.0), ('2017-01-24', 0.08), ('2017-01-25', 0.0), ('2017-01-26', 0.0), ('2017-01-27', 0.0), ('2017-01-29', None), ('2017-01-30', 0.0), ('2017-01-31', 0.0), ('2017-02-01', 0.0), ('2017-02-02', 0.0), ('2017-02-03', 0.0), ('2017-02-04', 0.0), ('2017-02-05', 0.0), ('2017-02-06', 0.0), ('2017-02-07', 1.8), ('2017-02-08', 0.0), ('2017-02-09', 0.0), ('2017-02-10', 0.0), ('2017-02-11', 5.04), ('2017-02-12', 0.07), ('2017-02-13', 0.0), ('2017-02-15', None), ('2017-02-16', 0.67), ('2017-02-17', 0.06), ('2017-02-18', 0.01), ('2017-02-20', None), ('2017-02-22', 0.13), ('2017-02-23', 0.0), ('2017-02-24', 0.0), ('2017-02-26', None), ('2017-02-27', 0.0), ('2017-02-28', 0.0), ('2017-03-01', 0.59), ('2017-03-02', 1.48), ('2017-03-03', 0.25), ('2017-03-04', 0.0), ('2017-03-06', None), ('2017-03-09', None), ('2017-03-10', 0.0), ('2017-03-11', 0.0), ('2017-03-12', 0.0), ('2017-03-13', 0.0), ('2017-03-14', 0.0), ('2017-03-15', 0.0), ('2017-03-16', 0.0), ('2017-03-17', 0.35), ('2017-03-18', 0.0), ('2017-03-19', 0.0), ('2017-03-20', 0.0), ('2017-03-21', 0.0), ('2017-03-22', 0.0), ('2017-03-23', 0.02), ('2017-03-24', 0.07), ('2017-03-25', 0.43), ('2017-03-26', 0.0), ('2017-03-27', 0.0), ('2017-03-28', 0.0), ('2017-03-29', 0.08), ('2017-03-30', 0.0), ('2017-03-31', 0.0), ('2017-04-01', 0.0), ('2017-04-02', 0.0), ('2017-04-03', 0.0), ('2017-04-04', 0.0), ('2017-04-05', 0.0), ('2017-04-06', 0.0), ('2017-04-07', 0.0), ('2017-04-09', None), ('2017-04-10', 0.0), ('2017-04-11', 0.0), ('2017-04-12', 0.0), ('2017-04-13', 0.0), ('2017-04-14', 0.36), ('2017-04-15', 0.0), ('2017-04-16', 0.0), ('2017-04-17', 0.3), ('2017-04-18', 0.15), ('2017-04-19', 0.0), ('2017-04-20', 0.35), ('2017-04-21', 2.36), ('2017-04-24', None), ('2017-04-25', 0.0), ('2017-04-26', 0.01), ('2017-04-27', 0.0), ('2017-04-28', 0.0), ('2017-04-29', 6.25), ('2017-04-30', 1.31), ('2017-05-01', 0.07), ('2017-05-02', 0.0), ('2017-05-03', 0.0), ('2017-05-04', 0.0), ('2017-05-05', 0.0), ('2017-05-06', 0.0), ('2017-05-07', 0.0), ('2017-05-08', 0.0), ('2017-05-09', 0.68), ('2017-05-10', 0.06), ('2017-05-11', 0.0), ('2017-05-12', 0.0), ('2017-05-13', 0.0), ('2017-05-14', 0.0), ('2017-05-15', 0.06), ('2017-05-16', 0.0), ('2017-05-17', 0.0), ('2017-05-18', 0.46), ('2017-05-20', None), ('2017-05-21', 0.0), ('2017-05-22', 0.0), ('2017-05-23', 0.0), ('2017-05-24', 0.61), ('2017-05-25', 0.55), ('2017-05-26', 0.0), ('2017-05-27', 0.0), ('2017-05-28', 0.0), ('2017-05-29', 0.0), ('2017-05-30', 0.11), ('2017-05-31', 0.0), ('2017-06-01', 0.0), ('2017-06-02', 0.0), ('2017-06-03', 0.15), ('2017-06-04', 0.0), ('2017-06-05', 0.0), ('2017-06-06', 0.0), ('2017-06-07', 0.0), ('2017-06-08', 0.0), ('2017-06-09', 0.0), ('2017-06-10', 0.13), ('2017-06-11', 0.25), ('2017-06-12', 0.14), ('2017-06-13', 0.03), ('2017-06-14', 0.06), ('2017-06-15', 0.0), ('2017-06-16', 0.0), ('2017-06-17', 0.0), ('2017-06-18', 0.0), ('2017-06-19', 0.01), ('2017-06-21', None), ('2017-06-22', 0.0), ('2017-06-23', 0.05), ('2017-06-24', 0.0), ('2017-06-25', 0.0), ('2017-06-26', 0.0), ('2017-06-27', 0.0), ('2017-06-28', 0.0), ('2017-06-29', 0.0), ('2017-06-30', 0.07), ('2017-07-02', None), ('2017-07-03', 0.02), ('2017-07-05', None), ('2017-07-06', 0.0), ('2017-07-07', 0.0), ('2017-07-08', 0.0), ('2017-07-09', 0.0), ('2017-07-10', 0.0), ('2017-07-11', 0.0), ('2017-07-12', 0.0), ('2017-07-13', 0.11), ('2017-07-14', 0.0), ('2017-07-15', 0.0), ('2017-07-16', 0.0), ('2017-07-17', 0.0), ('2017-07-18', 0.0), ('2017-07-19', 0.0), ('2017-07-20', 0.33), ('2017-07-21', 0.0), ('2017-07-22', 0.0), ('2017-07-24', None), ('2017-07-25', 0.05), ('2017-07-26', 0.0), ('2017-07-27', 0.0), ('2017-07-28', 0.0), ('2017-07-29', 0.0), ('2017-07-30', 0.0), ('2017-07-31', 0.0), ('2017-08-01', 0.0), ('2017-08-02', 0.0), ('2017-08-03', 0.0), ('2017-08-04', 0.0), ('2017-08-06', 0.0), ('2017-08-07', 0.0), ('2017-08-08', 0.0), ('2017-08-10', 0.0), ('2017-08-11', 0.0), ('2017-08-12', 0.0), ('2017-08-13', 0.0), ('2017-08-14', 0.08), ('2017-08-15', 0.06), ('2017-08-16', 0.07), ('2017-08-17', 0.05), ('2017-08-19', None), ('2017-08-21', None), ('2017-08-22', 0.0), ('2017-08-23', 0.08), ('2016-08-24', 2.15), ('2016-08-25', 0.06), ('2016-08-26', 0.01), ('2016-08-27', 0.12), ('2016-08-28', 0.6), ('2016-08-29', 0.35), ('2016-08-30', 0.0), ('2016-08-31', 0.24), ('2016-09-01', 0.02), ('2016-09-02', 0.01), ('2016-09-03', 0.12), ('2016-09-04', 0.14), ('2016-09-05', 0.03), ('2016-09-06', 0.11), ('2016-09-07', 0.16), ('2016-09-08', 0.07), ('2016-09-09', 0.16), ('2016-09-10', 0.09), ('2016-09-11', 0.3), ('2016-09-12', 0.31), ('2016-09-13', 0.34), ('2016-09-14', 2.33), ('2016-09-15', 0.83), ('2016-09-16', 0.06), ('2016-09-17', 0.36), ('2016-09-18', 0.07), ('2016-09-19', 0.01), ('2016-09-20', 0.22), ('2016-09-21', 0.07), ('2016-09-22', 0.34), ('2016-09-23', 0.94), ('2016-09-24', 0.01), ('2016-09-25', 0.03), ('2016-09-26', 0.17), ('2016-09-27', 0.17), ('2016-09-28', 0.0), ('2016-09-29', 0.59), ('2016-09-30', 0.25), ('2016-10-01', 0.14), ('2016-10-02', 0.06), ('2016-10-03', 0.16), ('2016-10-04', 0.03), ('2016-10-05', 0.01), ('2016-10-06', 0.0), ('2016-10-07', 0.0), ('2016-10-08', 0.0), ('2016-10-09', 0.0), ('2016-10-10', 0.0), ('2016-10-11', 0.28), ('2016-10-12', 0.03), ('2016-10-13', 0.0), ('2016-10-14', 0.0), ('2016-10-15', 0.04), ('2016-10-16', 0.0), ('2016-10-17', 0.01), ('2016-10-18', 0.02), ('2016-10-19', 0.11), ('2016-10-20', 0.0), ('2016-10-21', 0.0), ('2016-10-22', 0.15), ('2016-10-23', 0.02), ('2016-10-24', 0.08), ('2016-10-25', 0.11), ('2016-10-26', 0.01), ('2016-10-27', 0.22), ('2016-10-28', 0.05), ('2016-10-29', 0.1), ('2016-10-30', 0.16), ('2016-10-31', 0.07), ('2016-11-01', 0.1), ('2016-11-02', 0.0), ('2016-11-03', 0.0), ('2016-11-04', 0.0), ('2016-11-05', 0.03), ('2016-11-06', 0.01), ('2016-11-07', 0.0), ('2016-11-08', 0.21), ('2016-11-09', 0.11), ('2016-11-10', 0.0), ('2016-11-11', 0.0), ('2016-11-12', 0.0), ('2016-11-13', 0.0), ('2016-11-14', 0.0), ('2016-11-15', 0.0), ('2016-11-16', 0.24), ('2016-11-17', 0.01), ('2016-11-18', 0.0), ('2016-11-19', 0.11), ('2016-11-20', 0.39), ('2016-11-21', 0.11), ('2016-11-22', 2.05), ('2016-11-23', 0.25), ('2016-11-24', 0.3), ('2016-11-25', 0.08), ('2016-11-26', 0.06), ('2016-11-27', 0.17), ('2016-11-28', 0.0), ('2016-11-29', 0.09), ('2016-11-30', 0.05), ('2016-12-01', 0.37), ('2016-12-02', 0.35), ('2016-12-03', 0.77), ('2016-12-04', 0.04), ('2016-12-05', 0.22), ('2016-12-06', 0.0), ('2016-12-07', 0.12), ('2016-12-08', 0.07), ('2016-12-09', 0.31), ('2016-12-10', 0.02), ('2016-12-11', 0.0), ('2016-12-12', 0.0), ('2016-12-13', 0.04), ('2016-12-14', 0.92), ('2016-12-15', 0.14), ('2016-12-16', 0.03), ('2016-12-17', 0.07), ('2016-12-18', 0.16), ('2016-12-19', 0.03), ('2016-12-20', 0.0), ('2016-12-21', 0.11), ('2016-12-22', 0.86), ('2016-12-23', 0.24), ('2016-12-24', 0.2), ('2016-12-25', 0.02), ('2016-12-26', 0.22), ('2016-12-27', 0.05), ('2016-12-28', 0.09), ('2016-12-29', 0.52), ('2016-12-30', 0.29), ('2016-12-31', 0.25), ('2017-01-01', 0.03), ('2017-01-02', 0.01), ('2017-01-03', 0.0), ('2017-01-04', 0.0), ('2017-01-05', 0.06), ('2017-01-06', 0.1), ('2017-01-07', 0.0), ('2017-01-08', 0.0), ('2017-01-09', 0.0), ('2017-01-10', 0.0), ('2017-01-11', 0.0), ('2017-01-12', 0.0), ('2017-01-13', 0.0), ('2017-01-14', 0.01), ('2017-01-15', 0.0), ('2017-01-16', 0.0), ('2017-01-17', 0.0), ('2017-01-18', 0.0), ('2017-01-19', 0.02), ('2017-01-20', 0.0), ('2017-01-21', 0.03), ('2017-01-22', 0.09), ('2017-01-23', 0.01), ('2017-01-24', 0.13), ('2017-01-25', 0.79), ('2017-01-26', 0.0), ('2017-01-27', 0.03), ('2017-01-28', 0.0), ('2017-01-29', 0.26), ('2017-01-30', 0.0), ('2017-01-31', 0.0), ('2017-02-01', 0.0), ('2017-02-02', 0.0), ('2017-02-03', 0.0), ('2017-02-04', 0.0), ('2017-02-05', 0.0), ('2017-02-06', 0.18), ('2017-02-07', 1.32), ('2017-02-08', 0.0), ('2017-02-09', 0.0), ('2017-02-10', 0.0), ('2017-02-11', 1.73), ('2017-02-12', 2.98), ('2017-02-13', 0.01), ('2017-02-14', 0.0), ('2017-02-15', 0.01), ('2017-02-16', 0.73), ('2017-02-17', 0.13), ('2017-02-18', 0.0), ('2017-02-19', 0.09), ('2017-02-20', 0.0), ('2017-02-21', 0.0), ('2017-02-22', 0.06), ('2017-02-23', 0.0), ('2017-02-24', 0.0), ('2017-02-25', 0.0), ('2017-02-26', 0.0), ('2017-02-27', 0.0), ('2017-02-28', 0.04), ('2017-03-01', 2.12), ('2017-03-02', 1.88), ('2017-03-03', 0.27), ('2017-03-04', 0.0), ('2017-03-05', 0.41), ('2017-03-06', 0.03), ('2017-03-07', 0.0), ('2017-03-08', 0.0), ('2017-03-09', 0.65), ('2017-03-10', 0.03), ('2017-03-11', 0.01), ('2017-03-12', 0.0), ('2017-03-13', 0.0), ('2017-03-14', 0.0), ('2017-03-15', 0.06), ('2017-03-16', 0.0), ('2017-03-17', 0.12), ('2017-03-18', 0.0), ('2017-03-19', 0.0), ('2017-03-20', 0.02), ('2017-03-21', 0.09), ('2017-03-22', 0.0), ('2017-03-23', 0.0), ('2017-03-24', 0.12), ('2017-03-25', 0.93), ('2017-03-26', 0.0), ('2017-03-27', 0.01), ('2017-03-28', 0.0), ('2017-03-29', 0.01), ('2017-03-30', 0.04), ('2017-03-31', 0.01), ('2017-04-01', 0.21), ('2017-04-02', 0.0), ('2017-04-03', 0.26), ('2017-04-04', 0.09), ('2017-04-05', 0.1), ('2017-04-06', 0.06), ('2017-04-07', 0.0), ('2017-04-08', 0.0), ('2017-04-09', 0.0), ('2017-04-10', 0.01), ('2017-04-11', 0.03), ('2017-04-12', 0.11), ('2017-04-13', 0.59), ('2017-04-14', 2.3), ('2017-04-15', 0.38), ('2017-04-16', 0.47), ('2017-04-17', 1.04), ('2017-04-18', 2.03), ('2017-04-19', 0.02), ('2017-04-20', 0.05), ('2017-04-21', 1.74), ('2017-04-22', 1.58), ('2017-04-23', 0.06), ('2017-04-24', 0.01), ('2017-04-25', 0.0), ('2017-04-26', 0.02), ('2017-04-27', 0.19), ('2017-04-28', 0.76), ('2017-04-29', 0.37), ('2017-04-30', 1.04), ('2017-05-01', 0.13), ('2017-05-02', 0.01), ('2017-05-03', 0.01), ('2017-05-04', 0.0), ('2017-05-05', 0.0), ('2017-05-06', 0.0), ('2017-05-07', 0.02), ('2017-05-08', 0.73), ('2017-05-09', 1.58), ('2017-05-10', 0.2), ('2017-05-11', 0.12), ('2017-05-12', 0.02), ('2017-05-13', 0.12), ('2017-05-14', 0.17), ('2017-05-15', 0.09), ('2017-05-16', 0.03), ('2017-05-17', 0.07), ('2017-05-18', 0.13), ('2017-05-19', 0.01), ('2017-05-20', 0.02), ('2017-05-21', 0.01), ('2017-05-22', 0.06), ('2017-05-23', 0.06), ('2017-05-24', 0.3), ('2017-05-25', 0.2), ('2017-05-26', 0.0), ('2017-05-27', 0.0), ('2017-05-28', 0.08), ('2017-05-29', 0.4), ('2017-05-30', 1.12), ('2017-05-31', 0.25), ('2017-06-01', 0.0), ('2017-06-02', 0.09), ('2017-06-03', 0.08), ('2017-06-04', 0.13), ('2017-06-05', 0.05), ('2017-06-06', 0.0), ('2017-06-07', 0.0), ('2017-06-08', 0.0), ('2017-06-09', 0.02), ('2017-06-10', 0.62), ('2017-06-11', 0.74), ('2017-06-12', 0.24), ('2017-06-13', 0.24), ('2017-06-14', 0.22), ('2017-06-15', 0.55), ('2017-06-16', 0.06), ('2017-06-17', 0.07), ('2017-06-18', 0.24), ('2017-06-19', 0.08), ('2017-06-20', 0.0), ('2017-06-21', 0.19), ('2017-06-22', 0.06), ('2017-06-23', 0.12), ('2017-06-24', 0.36), ('2017-06-25', 0.02), ('2017-06-26', 0.06), ('2017-06-27', 0.01), ('2017-06-28', 0.0), ('2017-06-29', 0.0), ('2017-06-30', 0.01), ('2017-07-01', 0.08), ('2017-07-02', 0.15), ('2017-07-03', 0.15), ('2017-07-04', 0.08), ('2017-07-05', 0.0), ('2017-07-06', 0.0), ('2017-07-07', 0.18), ('2017-07-08', 0.0), ('2017-07-09', 0.11), ('2017-07-10', 0.02), ('2017-07-11', 0.02), ('2017-07-12', 0.28), ('2017-07-13', 0.32), ('2017-07-14', 0.2), ('2017-07-15', 0.05), ('2017-07-16', 0.1), ('2017-07-17', 0.21), ('2017-07-18', 0.05), ('2017-07-19', 0.05), ('2017-07-20', 0.06), ('2017-07-21', 0.03), ('2017-07-22', 0.2), ('2017-07-23', 0.2), ('2017-07-24', 0.61), ('2017-07-25', 0.11), ('2017-07-26', 0.12), ('2017-07-27', 0.01), ('2017-07-28', 0.09), ('2017-07-29', 0.23), ('2017-07-30', 0.0), ('2017-07-31', 0.0), ('2017-08-04', 0.0), ('2017-08-05', 0.06), ('2017-08-06', 0.0), ('2017-08-13', 0.0), ('2017-08-14', 0.0), ('2017-08-15', 0.32), ('2017-08-16', 0.12), ('2017-08-17', 0.01), ('2017-08-18', 0.06), ('2016-08-24', 1.45), ('2016-08-25', 0.11), ('2016-08-27', None), ('2016-08-28', 2.07), ('2016-08-29', 0.9), ('2016-08-30', 0.05), ('2016-08-31', 2.46), ('2016-09-01', 0.01), ('2016-09-02', 0.03), ('2016-09-03', 1.0), ('2016-09-04', 0.44), ('2016-09-05', 0.18), ('2016-09-06', 1.0), ('2016-09-07', 1.35), ('2016-09-08', 0.15), ('2016-09-09', 0.35), ('2016-09-10', 1.16), ('2016-09-11', 0.6), ('2016-09-12', 1.04), ('2016-09-13', 1.2), ('2016-09-14', 6.7), ('2016-09-15', 3.35), ('2016-09-16', 0.61), ('2016-09-17', 0.23), ('2016-09-18', 0.42), ('2016-09-19', 0.25), ('2016-09-20', 0.43), ('2016-09-21', 1.02), ('2016-09-22', 0.75), ('2016-09-23', 0.33), ('2016-09-24', 0.27), ('2016-09-25', 0.04), ('2016-09-26', 1.02), ('2016-09-27', 1.0), ('2016-09-28', 0.05), ('2016-09-29', 1.49), ('2016-09-30', 0.38), ('2016-10-01', 1.02), ('2016-10-02', 0.61), ('2016-10-03', 0.46), ('2016-10-04', 3.46), ('2016-10-05', 0.81), ('2016-10-06', 0.04), ('2016-10-07', 0.01), ('2016-10-08', 0.04), ('2016-10-09', 0.0), ('2016-10-10', 0.0), ('2016-10-11', 0.35), ('2016-10-12', 0.02), ('2016-10-13', 0.06), ('2016-10-14', 0.0), ('2016-10-15', 0.33), ('2016-10-16', 0.0), ('2016-10-17', 0.38), ('2016-10-18', 0.48), ('2016-10-19', 0.0), ('2016-10-20', 1.0), ('2016-10-21', 0.09), ('2016-10-22', 1.37), ('2016-10-23', 0.24), ('2016-10-24', 0.7), ('2016-10-25', 0.4), ('2016-10-26', 0.0), ('2016-10-27', 1.25), ('2016-10-28', 0.37), ('2016-10-29', 0.25), ('2016-10-30', 0.95), ('2016-10-31', 1.35), ('2016-11-01', 0.09), ('2016-11-02', 0.04), ('2016-11-03', 0.02), ('2016-11-04', 0.06), ('2016-11-05', 0.38), ('2016-11-06', 0.05), ('2016-11-07', 0.05), ('2016-11-08', 0.53), ('2016-11-09', 0.04), ('2016-11-10', 0.01), ('2016-11-11', 0.0), ('2016-11-12', 0.0), ('2016-11-13', 0.0), ('2016-11-14', 0.02), ('2016-11-15', 0.05), ('2016-11-16', 0.91), ('2016-11-17', 0.02), ('2016-11-20', None), ('2016-11-21', 2.87), ('2016-11-22', 2.11), ('2016-11-23', 0.22), ('2016-11-24', 0.72), ('2016-11-25', 1.03), ('2016-11-26', 0.3), ('2016-11-27', 0.29), ('2016-11-28', 0.69), ('2016-11-29', 0.2), ('2016-11-30', 0.79), ('2016-12-01', 0.72), ('2016-12-02', 1.27), ('2016-12-03', 1.62), ('2016-12-04', 0.31), ('2016-12-05', 1.6), ('2016-12-06', 0.0), ('2016-12-07', 0.02), ('2016-12-08', 0.03), ('2016-12-09', 0.42), ('2016-12-10', 0.04), ('2016-12-11', 0.13), ('2016-12-12', 0.01), ('2016-12-13', 0.09), ('2016-12-14', 0.33), ('2016-12-15', 0.03), ('2016-12-16', 0.0), ('2016-12-18', None), ('2016-12-19', 0.15), ('2016-12-20', 0.0), ('2016-12-21', 0.55), ('2016-12-22', 1.24), ('2016-12-23', 0.83), ('2016-12-24', 1.08), ('2016-12-25', 0.38), ('2016-12-26', 1.48), ('2016-12-27', 0.14), ('2016-12-28', 0.14), ('2016-12-29', 1.03), ('2016-12-30', 2.37), ('2016-12-31', 0.9), ('2017-01-01', 0.03), ('2017-01-02', 0.0), ('2017-01-03', 0.0), ('2017-01-04', 0.0), ('2017-01-05', 0.47), ('2017-01-06', 0.1), ('2017-01-07', 0.0), ('2017-01-08', 0.03), ('2017-01-09', 0.0), ('2017-01-10', 0.0), ('2017-01-11', 0.0), ('2017-01-12', 0.0), ('2017-01-13', 0.0), ('2017-01-14', 0.0), ('2017-01-15', 0.01), ('2017-01-16', 0.0), ('2017-01-17', 0.0), ('2017-01-18', 0.07), ('2017-01-19', 0.0), ('2017-01-20', 0.0), ('2017-01-21', 0.08), ('2017-01-22', 0.72), ('2017-01-23', 0.85), ('2017-01-24', 1.85), ('2017-01-25', 2.64), ('2017-01-26', 0.1), ('2017-01-27', 0.03), ('2017-01-28', 0.0), ('2017-01-29', 0.55), ('2017-01-30', 0.0), ('2017-01-31', 0.0), ('2017-02-01', 0.0), ('2017-02-02', 0.0), ('2017-02-04', None), ('2017-02-05', 0.0), ('2017-02-06', 0.0), ('2017-02-07', 1.79), ('2017-02-08', 0.0), ('2017-02-09', 0.0), ('2017-02-10', 0.0), ('2017-02-11', 0.73), ('2017-02-12', 1.83), ('2017-02-13', 0.0), ('2017-02-14', 0.01), ('2017-02-15', 0.07), ('2017-02-16', 0.13), ('2017-02-18', None), ('2017-02-19', 0.1), ('2017-02-20', 0.0), ('2017-02-21', 0.07), ('2017-02-22', 0.32), ('2017-02-23', 0.0), ('2017-02-24', 0.0), ('2017-02-25', 0.12), ('2017-02-26', 0.0), ('2017-02-27', 0.0), ('2017-02-28', 0.58), ('2017-03-01', 2.0), ('2017-03-02', 0.58), ('2017-03-03', 0.56), ('2017-03-04', 0.0), ('2017-03-05', 0.35), ('2017-03-06', 0.0), ('2017-03-07', 0.0), ('2017-03-08', 0.0), ('2017-03-09', 0.01), ('2017-03-10', 0.0), ('2017-03-11', 0.0), ('2017-03-13', None), ('2017-03-14', 0.0), ('2017-03-15', 0.0), ('2017-03-16', 0.0), ('2017-03-18', None), ('2017-03-19', 0.0), ('2017-03-20', 0.0), ('2017-03-21', 0.0), ('2017-03-22', 0.0), ('2017-03-23', 0.03), ('2017-03-24', 0.17), ('2017-03-25', 0.48), ('2017-03-26', 0.0), ('2017-03-27', 0.0), ('2017-03-28', 0.68), ('2017-03-29', 0.07), ('2017-03-31', None), ('2017-04-01', 0.2), ('2017-04-02', 0.0), ('2017-04-03', 0.23), ('2017-04-04', 0.02), ('2017-04-05', 0.45), ('2017-04-06', 0.0), ('2017-04-08', None), ('2017-04-09', 0.0), ('2017-04-10', 0.0), ('2017-04-11', 0.25), ('2017-04-12', 0.65), ('2017-04-13', 0.23), ('2017-04-14', 2.82), ('2017-04-15', 0.9), ('2017-04-16', 0.11), ('2017-04-17', 1.3), ('2017-04-18', 0.98), ('2017-04-19', 0.14), ('2017-04-20', 0.0), ('2017-04-21', 1.84), ('2017-04-22', 1.35), ('2017-04-23', 0.35), ('2017-04-24', 0.05), ('2017-04-25', 0.0), ('2017-04-26', 0.22), ('2017-04-27', 0.11), ('2017-04-28', 0.79), ('2017-04-29', 0.0), ('2017-04-30', 0.8), ('2017-05-01', 0.25), ('2017-05-02', 0.0), ('2017-05-04', None), ('2017-05-05', 0.1), ('2017-05-06', 0.0), ('2017-05-07', 0.03), ('2017-05-08', 1.11), ('2017-05-09', 0.23), ('2017-05-10', 0.55), ('2017-05-11', 0.44), ('2017-05-12', 0.1), ('2017-05-13', 0.1), ('2017-05-14', 1.0), ('2017-05-15', 0.6), ('2017-05-16', 0.3), ('2017-05-17', 0.06), ('2017-05-18', 0.0), ('2017-05-20', None), ('2017-05-21', 0.0), ('2017-05-22', 0.3), ('2017-05-23', 0.44), ('2017-05-24', 2.17), ('2017-05-25', 0.88), ('2017-05-26', 0.0), ('2017-05-27', 0.5), ('2017-05-28', 0.0), ('2017-05-30', None), ('2017-06-01', 0.01), ('2017-06-03', None), ('2017-06-04', 0.82), ('2017-06-05', 0.01), ('2017-06-06', 0.0), ('2017-06-07', 0.01), ('2017-06-08', 0.0), ('2017-06-10', None), ('2017-06-11', 0.7), ('2017-06-12', 0.81), ('2017-06-13', 0.65), ('2017-06-14', 0.81), ('2017-06-15', 1.69), ('2017-06-16', 0.1), ('2017-06-17', 0.1), ('2017-06-18', 0.7), ('2017-06-19', 0.4), ('2017-06-20', 0.31), ('2017-06-21', 0.3), ('2017-06-22', 0.28), ('2017-06-23', 0.5), ('2017-06-24', 0.22), ('2017-06-25', 0.5), ('2017-06-26', 0.02), ('2017-06-27', 0.1), ('2017-06-28', 0.02), ('2017-06-29', 0.04), ('2017-06-30', 0.2), ('2017-07-01', 0.1), ('2017-07-02', 0.5), ('2017-07-03', 0.4), ('2017-07-04', 0.0), ('2017-07-05', 0.0), ('2017-07-06', 0.02), ('2017-07-07', 0.3), ('2017-07-08', 0.02), ('2017-07-09', 0.0), ('2017-07-10', 0.02), ('2017-07-11', 0.0), ('2017-07-12', 0.05), ('2017-07-13', 0.68), ('2017-07-14', 0.68), ('2017-07-15', 0.1), ('2017-07-16', 0.5), ('2017-07-17', 0.39), ('2017-07-18', 2.4), ('2017-07-19', 0.27), ('2017-07-20', 0.7), ('2017-07-21', 0.1), ('2017-07-22', 4.0), ('2017-07-23', 0.8), ('2017-07-24', 0.84), ('2017-07-25', 0.3), ('2017-07-26', 0.3), ('2017-07-27', 0.0), ('2017-07-28', 0.4), ('2017-07-29', 0.3), ('2017-07-30', 0.3), ('2017-07-31', 0.0), ('2017-08-01', None), ('2017-08-02', 0.25), ('2017-08-03', 0.06), ('2017-08-05', None), ('2017-08-06', None), ('2017-08-07', 0.05), ('2017-08-08', 0.34), ('2017-08-09', 0.15), ('2017-08-10', 0.07), ('2017-08-11', None), ('2017-08-12', 0.14), ('2017-08-13', None), ('2017-08-14', 0.22), ('2017-08-15', 0.42), ('2017-08-16', 0.42), ('2017-08-17', 0.13), ('2017-08-18', None), ('2017-08-19', 0.09), ('2017-08-20', None), ('2017-08-21', 0.56), ('2017-08-22', 0.5), ('2017-08-23', 0.45)]\n"
     ]
    }
   ],
   "source": [
    "print(list(results))"
   ]
  },
  {
   "cell_type": "code",
   "execution_count": null,
   "metadata": {},
   "outputs": [],
   "source": [
    "# Use Pandas to calcualte the summary statistics for the precipitation data"
   ]
  },
  {
   "cell_type": "code",
   "execution_count": 50,
   "metadata": {},
   "outputs": [
    {
     "name": "stdout",
     "output_type": "stream",
     "text": [
      "There are [9] stations available in this dataset\n"
     ]
    }
   ],
   "source": [
    "# Design a query to show how many stations are available in this dataset?\n",
    "station_count = list(np.ravel(session.query(func.count(Station.station)).all()))\n",
    "print(f\"There are {station_count} stations available in this dataset\") "
   ]
  },
  {
   "cell_type": "code",
   "execution_count": 53,
   "metadata": {},
   "outputs": [
    {
     "data": {
      "text/plain": [
       "[('USC00519281', 2772),\n",
       " ('USC00519397', 2724),\n",
       " ('USC00513117', 2709),\n",
       " ('USC00519523', 2669),\n",
       " ('USC00516128', 2612),\n",
       " ('USC00514830', 2202),\n",
       " ('USC00511918', 1979),\n",
       " ('USC00517948', 1372),\n",
       " ('USC00518838', 511)]"
      ]
     },
     "execution_count": 53,
     "metadata": {},
     "output_type": "execute_result"
    }
   ],
   "source": [
    "# What are the most active stations? (i.e. what stations have the most rows)?\n",
    "# List the stations and the counts in descending order.\n",
    "session.query(Measurement.station, func.count(Measurement.station)).\\\n",
    "group_by(Measurement.station).\\\n",
    "order_by(func.count(Measurement.station).desc()).all()"
   ]
  },
  {
   "cell_type": "code",
   "execution_count": 61,
   "metadata": {},
   "outputs": [
    {
     "name": "stdout",
     "output_type": "stream",
     "text": [
      "For the most active station, the lowest recorded temperature is [54.], the highest recorded temperature is [85.] and the average recorded temperature is [71.66378066].\n"
     ]
    }
   ],
   "source": [
    "# Using the station id from the previous query, calculate the lowest temperature recorded, \n",
    "# highest temperature recorded, and average temperature of the most active station?\n",
    "lowest_temp = np.ravel(session.query(func.min(Measurement.tobs)).\\\n",
    "filter(Measurement.station=='USC00519281').all())\n",
    "highest_temp = np.ravel(session.query(func.max(Measurement.tobs)).\\\n",
    "filter(Measurement.station=='USC00519281').all())\n",
    "average_temp = np.ravel(session.query(func.avg(Measurement.tobs)).\\\n",
    "filter(Measurement.station=='USC00519281').all())\n",
    "\n",
    "print(f\"For the most active station, the lowest recorded temperature is {lowest_temp}, the highest recorded temperature is {highest_temp} and the average recorded temperature is {average_temp}.\")"
   ]
  },
  {
   "cell_type": "code",
   "execution_count": 63,
   "metadata": {},
   "outputs": [
    {
     "ename": "AttributeError",
     "evalue": "'list' object has no attribute 'plot'",
     "output_type": "error",
     "traceback": [
      "\u001b[1;31m---------------------------------------------------------------------------\u001b[0m",
      "\u001b[1;31mAttributeError\u001b[0m                            Traceback (most recent call last)",
      "\u001b[1;32m<ipython-input-63-ef83933928ec>\u001b[0m in \u001b[0;36m<module>\u001b[1;34m\u001b[0m\n\u001b[0;32m      3\u001b[0m \u001b[0mdate\u001b[0m \u001b[1;33m=\u001b[0m \u001b[0mdt\u001b[0m\u001b[1;33m.\u001b[0m\u001b[0mdate\u001b[0m\u001b[1;33m(\u001b[0m\u001b[1;36m2017\u001b[0m\u001b[1;33m,\u001b[0m\u001b[1;36m8\u001b[0m\u001b[1;33m,\u001b[0m\u001b[1;36m23\u001b[0m\u001b[1;33m)\u001b[0m \u001b[1;33m-\u001b[0m \u001b[0mdt\u001b[0m\u001b[1;33m.\u001b[0m\u001b[0mtimedelta\u001b[0m\u001b[1;33m(\u001b[0m\u001b[0mdays\u001b[0m\u001b[1;33m=\u001b[0m\u001b[1;36m365\u001b[0m\u001b[1;33m)\u001b[0m\u001b[1;33m\u001b[0m\u001b[1;33m\u001b[0m\u001b[0m\n\u001b[0;32m      4\u001b[0m \u001b[0mresults\u001b[0m \u001b[1;33m=\u001b[0m \u001b[0msession\u001b[0m\u001b[1;33m.\u001b[0m\u001b[0mquery\u001b[0m\u001b[1;33m(\u001b[0m\u001b[0mMeasurement\u001b[0m\u001b[1;33m.\u001b[0m\u001b[0mtobs\u001b[0m\u001b[1;33m)\u001b[0m\u001b[1;33m.\u001b[0m\u001b[0mfilter\u001b[0m\u001b[1;33m(\u001b[0m\u001b[0mMeasurement\u001b[0m\u001b[1;33m.\u001b[0m\u001b[0mstation\u001b[0m\u001b[1;33m==\u001b[0m\u001b[1;34m'USC00519281'\u001b[0m\u001b[1;33m)\u001b[0m\u001b[1;33m.\u001b[0m\u001b[0mall\u001b[0m\u001b[1;33m(\u001b[0m\u001b[1;33m)\u001b[0m\u001b[1;33m\u001b[0m\u001b[1;33m\u001b[0m\u001b[0m\n\u001b[1;32m----> 5\u001b[1;33m \u001b[0mresults\u001b[0m\u001b[1;33m.\u001b[0m\u001b[0mplot\u001b[0m\u001b[1;33m.\u001b[0m\u001b[0mhistogram\u001b[0m\u001b[1;33m(\u001b[0m\u001b[1;33m)\u001b[0m\u001b[1;33m\u001b[0m\u001b[1;33m\u001b[0m\u001b[0m\n\u001b[0m\u001b[0;32m      6\u001b[0m \u001b[0mplt\u001b[0m\u001b[1;33m.\u001b[0m\u001b[0mtight_layout\u001b[0m\u001b[1;33m(\u001b[0m\u001b[1;33m)\u001b[0m\u001b[1;33m\u001b[0m\u001b[1;33m\u001b[0m\u001b[0m\n\u001b[0;32m      7\u001b[0m \u001b[0mplt\u001b[0m\u001b[1;33m.\u001b[0m\u001b[0mshow\u001b[0m\u001b[1;33m(\u001b[0m\u001b[1;33m)\u001b[0m\u001b[1;33m\u001b[0m\u001b[1;33m\u001b[0m\u001b[0m\n",
      "\u001b[1;31mAttributeError\u001b[0m: 'list' object has no attribute 'plot'"
     ]
    }
   ],
   "source": [
    "# Choose the station with the highest number of temperature observations.\n",
    "# Query the last 12 months of temperature observation data for this station and plot the results as a histogram\n",
    "date = dt.date(2017,8,23) - dt.timedelta(days=365)\n",
    "results = session.query(Measurement.tobs).filter(Measurement.station=='USC00519281').all()\n",
    "df = pd.DataFrame(results,columns=['Temperature'])\n",
    "df.plot.histogram()\n",
    "plt.tight_layout()\n",
    "plt.show()"
   ]
  },
  {
   "cell_type": "markdown",
   "metadata": {},
   "source": [
    "## Bonus Challenge Assignment"
   ]
  },
  {
   "cell_type": "code",
   "execution_count": null,
   "metadata": {},
   "outputs": [],
   "source": [
    "# This function called `calc_temps` will accept start date and end date in the format '%Y-%m-%d' \n",
    "# and return the minimum, average, and maximum temperatures for that range of dates\n",
    "def calc_temps(start_date, end_date):\n",
    "    \"\"\"TMIN, TAVG, and TMAX for a list of dates.\n",
    "    \n",
    "    Args:\n",
    "        start_date (string): A date string in the format %Y-%m-%d\n",
    "        end_date (string): A date string in the format %Y-%m-%d\n",
    "        \n",
    "    Returns:\n",
    "        TMIN, TAVE, and TMAX\n",
    "    \"\"\"\n",
    "    \n",
    "    return session.query(func.min(Measurement.tobs), func.avg(Measurement.tobs), func.max(Measurement.tobs)).\\\n",
    "        filter(Measurement.date >= start_date).filter(Measurement.date <= end_date).all()\n",
    "\n",
    "# function usage example\n",
    "print(calc_temps('2012-02-28', '2012-03-05'))"
   ]
  },
  {
   "cell_type": "code",
   "execution_count": null,
   "metadata": {},
   "outputs": [],
   "source": [
    "# Use your previous function `calc_temps` to calculate the tmin, tavg, and tmax \n",
    "# for your trip using the previous year's data for those same dates.\n"
   ]
  },
  {
   "cell_type": "code",
   "execution_count": null,
   "metadata": {},
   "outputs": [],
   "source": [
    "# Plot the results from your previous query as a bar chart. \n",
    "# Use \"Trip Avg Temp\" as your Title\n",
    "# Use the average temperature for the y value\n",
    "# Use the peak-to-peak (tmax-tmin) value as the y error bar (yerr)\n"
   ]
  },
  {
   "cell_type": "code",
   "execution_count": null,
   "metadata": {},
   "outputs": [],
   "source": [
    "# Calculate the total amount of rainfall per weather station for your trip dates using the previous year's matching dates.\n",
    "# Sort this in descending order by precipitation amount and list the station, name, latitude, longitude, and elevation\n",
    "\n"
   ]
  },
  {
   "cell_type": "code",
   "execution_count": null,
   "metadata": {},
   "outputs": [],
   "source": [
    "# Create a query that will calculate the daily normals \n",
    "# (i.e. the averages for tmin, tmax, and tavg for all historic data matching a specific month and day)\n",
    "\n",
    "def daily_normals(date):\n",
    "    \"\"\"Daily Normals.\n",
    "    \n",
    "    Args:\n",
    "        date (str): A date string in the format '%m-%d'\n",
    "        \n",
    "    Returns:\n",
    "        A list of tuples containing the daily normals, tmin, tavg, and tmax\n",
    "    \n",
    "    \"\"\"\n",
    "    \n",
    "    sel = [func.min(Measurement.tobs), func.avg(Measurement.tobs), func.max(Measurement.tobs)]\n",
    "    return session.query(*sel).filter(func.strftime(\"%m-%d\", Measurement.date) == date).all()\n",
    "    \n",
    "daily_normals(\"01-01\")"
   ]
  },
  {
   "cell_type": "code",
   "execution_count": null,
   "metadata": {},
   "outputs": [],
   "source": [
    "# calculate the daily normals for your trip\n",
    "# push each tuple of calculations into a list called `normals`\n",
    "\n",
    "# Set the start and end date of the trip\n",
    "\n",
    "# Use the start and end date to create a range of dates\n",
    "\n",
    "# Stip off the year and save a list of %m-%d strings\n",
    "\n",
    "# Loop through the list of %m-%d strings and calculate the normals for each date\n"
   ]
  },
  {
   "cell_type": "code",
   "execution_count": null,
   "metadata": {},
   "outputs": [],
   "source": [
    "# Load the previous query results into a Pandas DataFrame and add the `trip_dates` range as the `date` index\n"
   ]
  },
  {
   "cell_type": "code",
   "execution_count": null,
   "metadata": {},
   "outputs": [],
   "source": [
    "# Plot the daily normals as an area plot with `stacked=False`\n"
   ]
  }
 ],
 "metadata": {
  "kernel_info": {
   "name": "python3"
  },
  "kernelspec": {
   "display_name": "Python 3",
   "language": "python",
   "name": "python3"
  },
  "language_info": {
   "codemirror_mode": {
    "name": "ipython",
    "version": 3
   },
   "file_extension": ".py",
   "mimetype": "text/x-python",
   "name": "python",
   "nbconvert_exporter": "python",
   "pygments_lexer": "ipython3",
   "version": "3.6.10"
  },
  "nteract": {
   "version": "0.12.3"
  },
  "varInspector": {
   "cols": {
    "lenName": 16,
    "lenType": 16,
    "lenVar": 40
   },
   "kernels_config": {
    "python": {
     "delete_cmd_postfix": "",
     "delete_cmd_prefix": "del ",
     "library": "var_list.py",
     "varRefreshCmd": "print(var_dic_list())"
    },
    "r": {
     "delete_cmd_postfix": ") ",
     "delete_cmd_prefix": "rm(",
     "library": "var_list.r",
     "varRefreshCmd": "cat(var_dic_list()) "
    }
   },
   "types_to_exclude": [
    "module",
    "function",
    "builtin_function_or_method",
    "instance",
    "_Feature"
   ],
   "window_display": false
  }
 },
 "nbformat": 4,
 "nbformat_minor": 2
}
